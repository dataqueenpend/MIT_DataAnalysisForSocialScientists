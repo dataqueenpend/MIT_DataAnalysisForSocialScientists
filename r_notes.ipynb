{
  "nbformat": 4,
  "nbformat_minor": 0,
  "metadata": {
    "colab": {
      "name": "r_notes.ipynb",
      "provenance": [],
      "collapsed_sections": [],
      "authorship_tag": "ABX9TyObY8npBQYLk2EvEdLmZNk6",
      "include_colab_link": true
    },
    "kernelspec": {
      "name": "python3",
      "display_name": "Python 3"
    },
    "language_info": {
      "name": "python"
    }
  },
  "cells": [
    {
      "cell_type": "markdown",
      "metadata": {
        "id": "view-in-github",
        "colab_type": "text"
      },
      "source": [
        "<a href=\"https://colab.research.google.com/github/dataqueenpend/MIT_DataAnalysisForSocialScientists/blob/main/r_notes.ipynb\" target=\"_parent\"><img src=\"https://colab.research.google.com/assets/colab-badge.svg\" alt=\"Open In Colab\"/></a>"
      ]
    },
    {
      "cell_type": "code",
      "metadata": {
        "id": "4_FjFm8nErmN",
        "colab": {
          "base_uri": "https://localhost:8080/"
        },
        "outputId": "4931c9f6-50af-434b-f2cf-97dbe43773f0"
      },
      "source": [
        "%load_ext rpy2.ipython\n"
      ],
      "execution_count": null,
      "outputs": [
        {
          "output_type": "stream",
          "name": "stdout",
          "text": [
            "The rpy2.ipython extension is already loaded. To reload it, use:\n",
            "  %reload_ext rpy2.ipython\n"
          ]
        }
      ]
    },
    {
      "cell_type": "code",
      "metadata": {
        "id": "0PI2PNihE9hl"
      },
      "source": [
        "%%R\n",
        "z <- c(pi, 205, 149, -2)\n",
        "y <- c(z, 555, z)\n",
        "y <- 2 * y + 760\n",
        "my_sqrt <- sqrt(y - 1)"
      ],
      "execution_count": null,
      "outputs": []
    },
    {
      "cell_type": "code",
      "metadata": {
        "colab": {
          "base_uri": "https://localhost:8080/"
        },
        "id": "6z4sjsXFFHK0",
        "outputId": "ef993ea0-2d0b-4c69-e398-fe0a98d07ed8"
      },
      "source": [
        "%%R\n",
        "my_sqrt"
      ],
      "execution_count": null,
      "outputs": [
        {
          "output_type": "stream",
          "name": "stdout",
          "text": [
            "[1] 27.66375 34.19064 32.51154 27.47726 43.23193 27.66375 34.19064 32.51154\n",
            "[9] 27.47726\n"
          ]
        }
      ]
    },
    {
      "cell_type": "code",
      "metadata": {
        "colab": {
          "base_uri": "https://localhost:8080/"
        },
        "id": "X8Cc8HcoFPaE",
        "outputId": "85e3e4f3-8526-4c7e-d9ff-3bd92c4a8483"
      },
      "source": [
        "%%R\n",
        "NA + 5\n",
        "\n"
      ],
      "execution_count": null,
      "outputs": [
        {
          "output_type": "stream",
          "name": "stdout",
          "text": [
            "[1] NA\n"
          ]
        }
      ]
    },
    {
      "cell_type": "code",
      "metadata": {
        "colab": {
          "base_uri": "https://localhost:8080/"
        },
        "id": "dZxG4SS-GcGs",
        "outputId": "f55748ea-5379-4827-de73-dfef519a1d18"
      },
      "source": [
        "%%R\n",
        "NA+5\n"
      ],
      "execution_count": null,
      "outputs": [
        {
          "output_type": "stream",
          "name": "stdout",
          "text": [
            "[1] NA\n"
          ]
        }
      ]
    },
    {
      "cell_type": "code",
      "metadata": {
        "id": "Ndf-d4ViVKH3"
      },
      "source": [
        "%%R\n",
        "age <- c(12, 28, 35, 27, NA, 25, 32, 45, 31, 23, NA, 34)\n"
      ],
      "execution_count": null,
      "outputs": []
    },
    {
      "cell_type": "code",
      "metadata": {
        "colab": {
          "base_uri": "https://localhost:8080/"
        },
        "id": "F0u9la-YVS_t",
        "outputId": "4032ad6e-cf57-4a80-afd3-3e8f970e3dbe"
      },
      "source": [
        "%%R\n",
        "age[!is.na(age)]"
      ],
      "execution_count": null,
      "outputs": [
        {
          "output_type": "stream",
          "name": "stdout",
          "text": [
            " [1] 12 28 35 27 25 32 45 31 23 34\n"
          ]
        }
      ]
    },
    {
      "cell_type": "code",
      "metadata": {
        "colab": {
          "base_uri": "https://localhost:8080/"
        },
        "id": "9HbJm01QVYlN",
        "outputId": "5079e8e7-5f26-4a05-bfca-81490d9c937b"
      },
      "source": [
        "%%R\n",
        "age[c(1, 2, 3, 4, 6, 7, 8, 9, 10, 12)]"
      ],
      "execution_count": null,
      "outputs": [
        {
          "output_type": "stream",
          "name": "stdout",
          "text": [
            " [1] 12 28 35 27 25 32 45 31 23 34\n"
          ]
        }
      ]
    },
    {
      "cell_type": "code",
      "metadata": {
        "colab": {
          "base_uri": "https://localhost:8080/"
        },
        "id": "NQgw1mPQVndt",
        "outputId": "9d870fc3-8425-4769-8ccb-80f40412a23f"
      },
      "source": [
        "%%R\n",
        "age[c(-5, -11)]"
      ],
      "execution_count": null,
      "outputs": [
        {
          "output_type": "stream",
          "name": "stdout",
          "text": [
            " [1] 12 28 35 27 25 32 45 31 23 34\n"
          ]
        }
      ]
    },
    {
      "cell_type": "code",
      "metadata": {
        "colab": {
          "base_uri": "https://localhost:8080/"
        },
        "id": "xscyBVZRVogV",
        "outputId": "3d722d48-a1b0-4c54-f40f-9a535a41f1ea"
      },
      "source": [
        "%%R\n",
        "age[-c(5, 11)]"
      ],
      "execution_count": null,
      "outputs": [
        {
          "output_type": "stream",
          "name": "stdout",
          "text": [
            " [1] 12 28 35 27 25 32 45 31 23 34\n"
          ]
        }
      ]
    },
    {
      "cell_type": "code",
      "metadata": {
        "colab": {
          "base_uri": "https://localhost:8080/"
        },
        "id": "_-Jwjz23WIB1",
        "outputId": "67c8f659-3f26-48f3-b4d0-e8af33e81948"
      },
      "source": [
        "%%R\n",
        "library(tidyverse)\n",
        "papers <- as_tibble(read_csv(\"/content/CitesforSara.csv\"))"
      ],
      "execution_count": null,
      "outputs": [
        {
          "output_type": "stream",
          "name": "stdout",
          "text": [
            "Rows: 4182 Columns: 22\n",
            "── Column specification ────────────────────────────────────────────────────────\n",
            "Delimiter: \",\"\n",
            "chr  (5): journal, title, au1, au2, au3\n",
            "dbl (17): year, cites, female1, female2, female3, page, order, nauthor, past...\n",
            "\n",
            "ℹ Use `spec()` to retrieve the full column specification for this data.\n",
            "ℹ Specify the column types or set `show_col_types = FALSE` to quiet this message.\n"
          ]
        }
      ]
    },
    {
      "cell_type": "code",
      "metadata": {
        "id": "rLHy9yVpjWcY"
      },
      "source": [
        " %%R\n",
        " papers_select <- select(papers, journal, year, cites, title, au1)"
      ],
      "execution_count": null,
      "outputs": []
    },
    {
      "cell_type": "code",
      "metadata": {
        "colab": {
          "base_uri": "https://localhost:8080/"
        },
        "id": "fJ-MoPT1pSUq",
        "outputId": "933b6b81-871a-44f4-b623-4a9ebc98ce68"
      },
      "source": [
        " %%R\n",
        " head(papers_select)"
      ],
      "execution_count": null,
      "outputs": [
        {
          "output_type": "stream",
          "name": "stdout",
          "text": [
            "# A tibble: 6 × 5\n",
            "  journal                   year cites title                          au1       \n",
            "  <chr>                    <dbl> <dbl> <chr>                          <chr>     \n",
            "1 American-Economic-Review  1993    31 Jeux Sans Frontieres:  Tax Co… Kanbur,-R…\n",
            "2 American-Economic-Review  1993     4 Changes in Economic Instabili… James,-Jo…\n",
            "3 American-Economic-Review  1993    28 Factor Shares and Savings in … Bertola,-…\n",
            "4 American-Economic-Review  1993    10 Strategic Discipline in Monet… Garfinkel…\n",
            "5 American-Economic-Review  1993     5 Will Affirmative-Action Polic… Coate,-St…\n",
            "6 American-Economic-Review  1993    21 Mergers and Market Power:  Ev… Kim,-E.-H…\n"
          ]
        }
      ]
    },
    {
      "cell_type": "code",
      "metadata": {
        "colab": {
          "base_uri": "https://localhost:8080/"
        },
        "id": "tHIlHarOoCc_",
        "outputId": "5293a81b-6fc2-4b89-93f0-b5c518c6835e"
      },
      "source": [
        " %%R\n",
        "rows100 <- filter(papers_select, cites >= 100)\n",
        "rows100"
      ],
      "execution_count": null,
      "outputs": [
        {
          "output_type": "stream",
          "name": "stdout",
          "text": [
            "# A tibble: 205 × 5\n",
            "   journal                   year cites title                         au1       \n",
            "   <chr>                    <dbl> <dbl> <chr>                         <chr>     \n",
            " 1 American-Economic-Review  1994   117 Is Inequality Harmful for Gr… Persson,-…\n",
            " 2 Econometrica              1971   149 Further Evidence on the Esti… Nerlove,-…\n",
            " 3 Econometrica              1971   170 The Use of Variance Componen… Maddala,-…\n",
            " 4 Econometrica              1971   155 Investment Under Uncertainty  Lucas,-Ro…\n",
            " 5 Econometrica              1971   139 Some Statistical Models for … Cragg,-Jo…\n",
            " 6 Econometrica              1971   108 Identification in Parametric… Rothenber…\n",
            " 7 Econometrica              1972   164 Methods of Estimation for Ma… Fair,-Ray…\n",
            " 8 Econometrica              1972   150 Existence of Equilibrium of … Radner,-R…\n",
            " 9 Econometrica              1973   361 Manipulation of Voting Schem… Gibbard,-…\n",
            "10 Econometrica              1973   107 On a Class of Equilibrium Co… Kramer,-G…\n",
            "# … with 195 more rows\n"
          ]
        }
      ]
    },
    {
      "cell_type": "code",
      "metadata": {
        "colab": {
          "base_uri": "https://localhost:8080/"
        },
        "id": "McSDJwjPpnE1",
        "outputId": "c9cee04e-e8a0-4de3-9372-f619087b0cf6"
      },
      "source": [
        " %%R\n",
        "group <- group_by(papers_select, journal)\n",
        "group"
      ],
      "execution_count": null,
      "outputs": [
        {
          "output_type": "stream",
          "name": "stdout",
          "text": [
            "# A tibble: 4,182 × 5\n",
            "# Groups:   journal [7]\n",
            "   journal                   year cites title                         au1       \n",
            "   <chr>                    <dbl> <dbl> <chr>                         <chr>     \n",
            " 1 American-Economic-Review  1993    31 Jeux Sans Frontieres:  Tax C… Kanbur,-R…\n",
            " 2 American-Economic-Review  1993     4 Changes in Economic Instabil… James,-Jo…\n",
            " 3 American-Economic-Review  1993    28 Factor Shares and Savings in… Bertola,-…\n",
            " 4 American-Economic-Review  1993    10 Strategic Discipline in Mone… Garfinkel…\n",
            " 5 American-Economic-Review  1993     5 Will Affirmative-Action Poli… Coate,-St…\n",
            " 6 American-Economic-Review  1993    21 Mergers and Market Power:  E… Kim,-E.-H…\n",
            " 7 American-Economic-Review  1993    45 A Search-Theoretic Approach … Kiyotaki,…\n",
            " 8 American-Economic-Review  1993    13 An Experimental Test of the … Andreoni,…\n",
            " 9 American-Economic-Review  1993     5 A General Experiment on Barg… Kahn,-Law…\n",
            "10 American-Economic-Review  1993     2 Nominal-Contracting Theories… Keane,-Mi…\n",
            "# … with 4,172 more rows\n"
          ]
        }
      ]
    },
    {
      "cell_type": "code",
      "metadata": {
        "id": "M-i9eCgL45Qe"
      },
      "source": [
        "%%R\n",
        "\n",
        "papers_female <- select(papers, contains(\"female\"))"
      ],
      "execution_count": null,
      "outputs": []
    },
    {
      "cell_type": "code",
      "metadata": {
        "colab": {
          "base_uri": "https://localhost:8080/",
          "height": 204
        },
        "id": "KP7_3gB50R_x",
        "outputId": "a9edcd93-3ade-486d-a9f0-bd1fb821838c"
      },
      "source": [
        "import pandas as pd\n",
        "\n",
        "df=pd.read_csv('/content/CitesforSara.csv')\n",
        "df.head()\n",
        "selected = df[['journal', 'year', 'cites', 'title', 'au1']]\n",
        "selected.head()"
      ],
      "execution_count": null,
      "outputs": [
        {
          "output_type": "execute_result",
          "data": {
            "text/html": [
              "<div>\n",
              "<style scoped>\n",
              "    .dataframe tbody tr th:only-of-type {\n",
              "        vertical-align: middle;\n",
              "    }\n",
              "\n",
              "    .dataframe tbody tr th {\n",
              "        vertical-align: top;\n",
              "    }\n",
              "\n",
              "    .dataframe thead th {\n",
              "        text-align: right;\n",
              "    }\n",
              "</style>\n",
              "<table border=\"1\" class=\"dataframe\">\n",
              "  <thead>\n",
              "    <tr style=\"text-align: right;\">\n",
              "      <th></th>\n",
              "      <th>journal</th>\n",
              "      <th>year</th>\n",
              "      <th>cites</th>\n",
              "      <th>title</th>\n",
              "      <th>au1</th>\n",
              "    </tr>\n",
              "  </thead>\n",
              "  <tbody>\n",
              "    <tr>\n",
              "      <th>0</th>\n",
              "      <td>American-Economic-Review</td>\n",
              "      <td>1993</td>\n",
              "      <td>31</td>\n",
              "      <td>Jeux Sans Frontieres:  Tax Competition and Tax...</td>\n",
              "      <td>Kanbur,-Ravi</td>\n",
              "    </tr>\n",
              "    <tr>\n",
              "      <th>1</th>\n",
              "      <td>American-Economic-Review</td>\n",
              "      <td>1993</td>\n",
              "      <td>4</td>\n",
              "      <td>Changes in Economic Instability in 19th-Centur...</td>\n",
              "      <td>James,-John-A.</td>\n",
              "    </tr>\n",
              "    <tr>\n",
              "      <th>2</th>\n",
              "      <td>American-Economic-Review</td>\n",
              "      <td>1993</td>\n",
              "      <td>28</td>\n",
              "      <td>Factor Shares and Savings in Endogenous Growth</td>\n",
              "      <td>Bertola,-Giuseppe</td>\n",
              "    </tr>\n",
              "    <tr>\n",
              "      <th>3</th>\n",
              "      <td>American-Economic-Review</td>\n",
              "      <td>1993</td>\n",
              "      <td>10</td>\n",
              "      <td>Strategic Discipline in Monetary Policy with P...</td>\n",
              "      <td>Garfinkel,-Michelle-R.</td>\n",
              "    </tr>\n",
              "    <tr>\n",
              "      <th>4</th>\n",
              "      <td>American-Economic-Review</td>\n",
              "      <td>1993</td>\n",
              "      <td>5</td>\n",
              "      <td>Will Affirmative-Action Policies Eliminate Neg...</td>\n",
              "      <td>Coate,-Stephen</td>\n",
              "    </tr>\n",
              "  </tbody>\n",
              "</table>\n",
              "</div>"
            ],
            "text/plain": [
              "                    journal  ...                     au1\n",
              "0  American-Economic-Review  ...            Kanbur,-Ravi\n",
              "1  American-Economic-Review  ...          James,-John-A.\n",
              "2  American-Economic-Review  ...       Bertola,-Giuseppe\n",
              "3  American-Economic-Review  ...  Garfinkel,-Michelle-R.\n",
              "4  American-Economic-Review  ...          Coate,-Stephen\n",
              "\n",
              "[5 rows x 5 columns]"
            ]
          },
          "metadata": {},
          "execution_count": 29
        }
      ]
    },
    {
      "cell_type": "code",
      "metadata": {
        "colab": {
          "base_uri": "https://localhost:8080/",
          "height": 204
        },
        "id": "3uVl7uwV1UhY",
        "outputId": "336fc137-b367-4500-d3d3-e851ae19d329"
      },
      "source": [
        "sel = selected\n",
        "sel.head()"
      ],
      "execution_count": null,
      "outputs": [
        {
          "output_type": "execute_result",
          "data": {
            "text/html": [
              "<div>\n",
              "<style scoped>\n",
              "    .dataframe tbody tr th:only-of-type {\n",
              "        vertical-align: middle;\n",
              "    }\n",
              "\n",
              "    .dataframe tbody tr th {\n",
              "        vertical-align: top;\n",
              "    }\n",
              "\n",
              "    .dataframe thead th {\n",
              "        text-align: right;\n",
              "    }\n",
              "</style>\n",
              "<table border=\"1\" class=\"dataframe\">\n",
              "  <thead>\n",
              "    <tr style=\"text-align: right;\">\n",
              "      <th></th>\n",
              "      <th>journal</th>\n",
              "      <th>year</th>\n",
              "      <th>cites</th>\n",
              "      <th>title</th>\n",
              "      <th>au1</th>\n",
              "    </tr>\n",
              "  </thead>\n",
              "  <tbody>\n",
              "    <tr>\n",
              "      <th>0</th>\n",
              "      <td>American-Economic-Review</td>\n",
              "      <td>1993</td>\n",
              "      <td>31</td>\n",
              "      <td>Jeux Sans Frontieres:  Tax Competition and Tax...</td>\n",
              "      <td>Kanbur,-Ravi</td>\n",
              "    </tr>\n",
              "    <tr>\n",
              "      <th>1</th>\n",
              "      <td>American-Economic-Review</td>\n",
              "      <td>1993</td>\n",
              "      <td>4</td>\n",
              "      <td>Changes in Economic Instability in 19th-Centur...</td>\n",
              "      <td>James,-John-A.</td>\n",
              "    </tr>\n",
              "    <tr>\n",
              "      <th>2</th>\n",
              "      <td>American-Economic-Review</td>\n",
              "      <td>1993</td>\n",
              "      <td>28</td>\n",
              "      <td>Factor Shares and Savings in Endogenous Growth</td>\n",
              "      <td>Bertola,-Giuseppe</td>\n",
              "    </tr>\n",
              "    <tr>\n",
              "      <th>3</th>\n",
              "      <td>American-Economic-Review</td>\n",
              "      <td>1993</td>\n",
              "      <td>10</td>\n",
              "      <td>Strategic Discipline in Monetary Policy with P...</td>\n",
              "      <td>Garfinkel,-Michelle-R.</td>\n",
              "    </tr>\n",
              "    <tr>\n",
              "      <th>4</th>\n",
              "      <td>American-Economic-Review</td>\n",
              "      <td>1993</td>\n",
              "      <td>5</td>\n",
              "      <td>Will Affirmative-Action Policies Eliminate Neg...</td>\n",
              "      <td>Coate,-Stephen</td>\n",
              "    </tr>\n",
              "  </tbody>\n",
              "</table>\n",
              "</div>"
            ],
            "text/plain": [
              "                    journal  ...                     au1\n",
              "0  American-Economic-Review  ...            Kanbur,-Ravi\n",
              "1  American-Economic-Review  ...          James,-John-A.\n",
              "2  American-Economic-Review  ...       Bertola,-Giuseppe\n",
              "3  American-Economic-Review  ...  Garfinkel,-Michelle-R.\n",
              "4  American-Economic-Review  ...          Coate,-Stephen\n",
              "\n",
              "[5 rows x 5 columns]"
            ]
          },
          "metadata": {},
          "execution_count": 30
        }
      ]
    },
    {
      "cell_type": "code",
      "metadata": {
        "colab": {
          "base_uri": "https://localhost:8080/",
          "height": 266
        },
        "id": "0N5c7PAF1YKw",
        "outputId": "3b8178ec-f24c-4b1d-8317-5016e37bac35"
      },
      "source": [
        "df.groupby('journal').agg({'cites': 'sum'}) \n"
      ],
      "execution_count": null,
      "outputs": [
        {
          "output_type": "execute_result",
          "data": {
            "text/html": [
              "<div>\n",
              "<style scoped>\n",
              "    .dataframe tbody tr th:only-of-type {\n",
              "        vertical-align: middle;\n",
              "    }\n",
              "\n",
              "    .dataframe tbody tr th {\n",
              "        vertical-align: top;\n",
              "    }\n",
              "\n",
              "    .dataframe thead th {\n",
              "        text-align: right;\n",
              "    }\n",
              "</style>\n",
              "<table border=\"1\" class=\"dataframe\">\n",
              "  <thead>\n",
              "    <tr style=\"text-align: right;\">\n",
              "      <th></th>\n",
              "      <th>cites</th>\n",
              "    </tr>\n",
              "    <tr>\n",
              "      <th>journal</th>\n",
              "      <th></th>\n",
              "    </tr>\n",
              "  </thead>\n",
              "  <tbody>\n",
              "    <tr>\n",
              "      <th>American-Economic-Review</th>\n",
              "      <td>3738</td>\n",
              "    </tr>\n",
              "    <tr>\n",
              "      <th>Econometrica</th>\n",
              "      <td>75789</td>\n",
              "    </tr>\n",
              "    <tr>\n",
              "      <th>Journal-of-Political-Economy</th>\n",
              "      <td>3398</td>\n",
              "    </tr>\n",
              "    <tr>\n",
              "      <th>Quarterly-Journal-of-Economics</th>\n",
              "      <td>8844</td>\n",
              "    </tr>\n",
              "    <tr>\n",
              "      <th>Review-of-Economic-Studies</th>\n",
              "      <td>21937</td>\n",
              "    </tr>\n",
              "    <tr>\n",
              "      <th>Review-of-Economics-and-Statistics</th>\n",
              "      <td>8473</td>\n",
              "    </tr>\n",
              "  </tbody>\n",
              "</table>\n",
              "</div>"
            ],
            "text/plain": [
              "                                    cites\n",
              "journal                                  \n",
              "American-Economic-Review             3738\n",
              "Econometrica                        75789\n",
              "Journal-of-Political-Economy         3398\n",
              "Quarterly-Journal-of-Economics       8844\n",
              "Review-of-Economic-Studies          21937\n",
              "Review-of-Economics-and-Statistics   8473"
            ]
          },
          "metadata": {},
          "execution_count": 31
        }
      ]
    },
    {
      "cell_type": "code",
      "metadata": {
        "colab": {
          "base_uri": "https://localhost:8080/"
        },
        "id": "o0XCLB6R3mxI",
        "outputId": "c1b8c3c9-07b2-44b3-faae-8e4af7bb9855"
      },
      "source": [
        "sel.info()"
      ],
      "execution_count": null,
      "outputs": [
        {
          "output_type": "stream",
          "name": "stdout",
          "text": [
            "<class 'pandas.core.frame.DataFrame'>\n",
            "RangeIndex: 4182 entries, 0 to 4181\n",
            "Data columns (total 5 columns):\n",
            " #   Column   Non-Null Count  Dtype \n",
            "---  ------   --------------  ----- \n",
            " 0   journal  4176 non-null   object\n",
            " 1   year     4182 non-null   int64 \n",
            " 2   cites    4182 non-null   int64 \n",
            " 3   title    4181 non-null   object\n",
            " 4   au1      4179 non-null   object\n",
            "dtypes: int64(2), object(3)\n",
            "memory usage: 163.5+ KB\n"
          ]
        }
      ]
    },
    {
      "cell_type": "code",
      "metadata": {
        "colab": {
          "base_uri": "https://localhost:8080/"
        },
        "id": "GLPd84T04DGC",
        "outputId": "349870f9-49f5-4063-b076-28ce5e1dec17"
      },
      "source": [
        "df['au1'].value_counts().sort_index() \n"
      ],
      "execution_count": null,
      "outputs": [
        {
          "output_type": "execute_result",
          "data": {
            "text/plain": [
              " Williamson,-Stephen-D.            1\n",
              "Aaron,-Henry-J.                    1\n",
              "Abbott,-Michael                    1\n",
              "Abel,-Andrew-B.                    9\n",
              "Abowd,-John-M.                     2\n",
              "                                  ..\n",
              "van-der-Ploeg,-Frederick           1\n",
              "von-Thadden,-Ernst-Ludwig          1\n",
              "von-Ungern-Sternberg,-Thomas       1\n",
              "von-Weizsacker,-C.-Christian       1\n",
              "von-der-Fehr,-Nils-Henrik-Morch    1\n",
              "Name: au1, Length: 2332, dtype: int64"
            ]
          },
          "metadata": {},
          "execution_count": 33
        }
      ]
    },
    {
      "cell_type": "code",
      "metadata": {
        "colab": {
          "base_uri": "https://localhost:8080/"
        },
        "id": "kVfElWx_VrCE",
        "outputId": "c004aec8-df4d-4955-eb1b-3744996cebc8"
      },
      "source": [
        "%%R\n",
        "library(rvest)"
      ],
      "execution_count": null,
      "outputs": [
        {
          "output_type": "stream",
          "name": "stderr",
          "text": [
            "R[write to console]: \n",
            "Attaching package: ‘rvest’\n",
            "\n",
            "\n",
            "R[write to console]: The following object is masked from ‘package:readr’:\n",
            "\n",
            "    guess_encoding\n",
            "\n",
            "\n"
          ]
        }
      ]
    },
    {
      "cell_type": "code",
      "metadata": {
        "colab": {
          "base_uri": "https://localhost:8080/"
        },
        "id": "tCBqKX-WWZaL",
        "outputId": "2090656c-c38a-482d-fb21-a0d9795391c2"
      },
      "source": [
        "\n",
        "%%R\n",
        "edxsubjects <- read_html(\"https://www.edx.org/subjects\") \n",
        "subjectshtml<-html_nodes(edxsubjects, \".align-items-center\")\n",
        "subjecttext<-html_text(subjectshtml)\n",
        "print(subjecttext)"
      ],
      "execution_count": null,
      "outputs": [
        {
          "output_type": "stream",
          "name": "stdout",
          "text": [
            " [1] \"Toggle mobile menuSign InRegisterCoursesCourses menuCoursesPrograms & DegreesPrograms & Degrees menuProgramsOnline Master's DegreesSchools & PartnersSchools & PartnersedX for BusinessSearch for courses and programs\"\n",
            " [2] \"Search\"                                                                                                                                                                                                                \n",
            " [3] \"\"                                                                                                                                                                                                                      \n",
            " [4] \"\"                                                                                                                                                                                                                      \n",
            " [5] \"SearchedX for Business\"                                                                                                                                                                                                \n",
            " [6] \"\"                                                                                                                                                                                                                      \n",
            " [7] \"\"                                                                                                                                                                                                                      \n",
            " [8] \"Business & Management\"                                                                                                                                                                                                 \n",
            " [9] \"Computer Science\"                                                                                                                                                                                                      \n",
            "[10] \"Data Analysis & Statistics\"                                                                                                                                                                                            \n",
            "[11] \"Humanities\"                                                                                                                                                                                                            \n",
            "[12] \"Language\"                                                                                                                                                                                                              \n",
            "[13] \"Architecture\"                                                                                                                                                                                                          \n",
            "[14] \"Art & Culture\"                                                                                                                                                                                                         \n",
            "[15] \"Biology & Life Sciences\"                                                                                                                                                                                               \n",
            "[16] \"Business & Management\"                                                                                                                                                                                                 \n",
            "[17] \"Chemistry\"                                                                                                                                                                                                             \n",
            "[18] \"Communication\"                                                                                                                                                                                                         \n",
            "[19] \"Computer Science\"                                                                                                                                                                                                      \n",
            "[20] \"Data Analysis & Statistics\"                                                                                                                                                                                            \n",
            "[21] \"Design\"                                                                                                                                                                                                                \n",
            "[22] \"Economics & Finance\"                                                                                                                                                                                                   \n",
            "[23] \"Education & Teacher Training\"                                                                                                                                                                                          \n",
            "[24] \"Electronics\"                                                                                                                                                                                                           \n",
            "[25] \"Energy & Earth Sciences\"                                                                                                                                                                                               \n",
            "[26] \"Engineering\"                                                                                                                                                                                                           \n",
            "[27] \"Environmental Studies\"                                                                                                                                                                                                 \n",
            "[28] \"Ethics\"                                                                                                                                                                                                                \n",
            "[29] \"Food & Nutrition\"                                                                                                                                                                                                      \n",
            "[30] \"Health & Safety\"                                                                                                                                                                                                       \n",
            "[31] \"History\"                                                                                                                                                                                                               \n",
            "[32] \"Humanities\"                                                                                                                                                                                                            \n",
            "[33] \"Language\"                                                                                                                                                                                                              \n",
            "[34] \"Law\"                                                                                                                                                                                                                   \n",
            "[35] \"Literature\"                                                                                                                                                                                                            \n",
            "[36] \"Math\"                                                                                                                                                                                                                  \n",
            "[37] \"Medicine\"                                                                                                                                                                                                              \n",
            "[38] \"Music\"                                                                                                                                                                                                                 \n",
            "[39] \"Philanthropy\"                                                                                                                                                                                                          \n",
            "[40] \"Philosophy & Ethics\"                                                                                                                                                                                                   \n",
            "[41] \"Physics\"                                                                                                                                                                                                               \n",
            "[42] \"Science\"                                                                                                                                                                                                               \n",
            "[43] \"Social Sciences\"                                                                                                                                                                                                       \n",
            "[44] \"Like edX on Facebook\"                                                                                                                                                                                                  \n",
            "[45] \"Follow edX on Twitter\"                                                                                                                                                                                                 \n",
            "[46] \"Follow edX on LinkedIn\"                                                                                                                                                                                                \n",
            "[47] \"Subscribe to the edX subreddit\"                                                                                                                                                                                        \n"
          ]
        }
      ]
    },
    {
      "cell_type": "code",
      "metadata": {
        "colab": {
          "base_uri": "https://localhost:8080/"
        },
        "id": "UeSiuQonnmFC",
        "outputId": "243536e3-408c-4f16-da2e-781f9e48549e"
      },
      "source": [
        "%%R\n",
        "#Selecting subjects in AllSubjects only\n",
        "edxsubjects <- read_html(\"https://www.edx.org/subjects\") \n",
        "subjectshtml<-html_nodes(edxsubjects, \".mb-4+ .mb-4 .align-items-center\")\n",
        "subjecttext<-html_text(subjectshtml)\n",
        "print(subjecttext)\n"
      ],
      "execution_count": null,
      "outputs": [
        {
          "output_type": "stream",
          "name": "stdout",
          "text": [
            " [1] \"Architecture\"                 \"Art & Culture\"               \n",
            " [3] \"Biology & Life Sciences\"      \"Business & Management\"       \n",
            " [5] \"Chemistry\"                    \"Communication\"               \n",
            " [7] \"Computer Science\"             \"Data Analysis & Statistics\"  \n",
            " [9] \"Design\"                       \"Economics & Finance\"         \n",
            "[11] \"Education & Teacher Training\" \"Electronics\"                 \n",
            "[13] \"Energy & Earth Sciences\"      \"Engineering\"                 \n",
            "[15] \"Environmental Studies\"        \"Ethics\"                      \n",
            "[17] \"Food & Nutrition\"             \"Health & Safety\"             \n",
            "[19] \"History\"                      \"Humanities\"                  \n",
            "[21] \"Language\"                     \"Law\"                         \n",
            "[23] \"Literature\"                   \"Math\"                        \n",
            "[25] \"Medicine\"                     \"Music\"                       \n",
            "[27] \"Philanthropy\"                 \"Philosophy & Ethics\"         \n",
            "[29] \"Physics\"                      \"Science\"                     \n",
            "[31] \"Social Sciences\"             \n"
          ]
        }
      ]
    },
    {
      "cell_type": "code",
      "metadata": {
        "colab": {
          "base_uri": "https://localhost:8080/"
        },
        "id": "_UxOTptJrTXh",
        "outputId": "c507a46f-62ec-40a2-eb13-7663fa819868"
      },
      "source": [
        "%%R\n",
        "install.packages('swirl')"
      ],
      "execution_count": null,
      "outputs": [
        {
          "output_type": "stream",
          "name": "stderr",
          "text": [
            "R[write to console]: Installing package into ‘/usr/local/lib/R/site-library’\n",
            "(as ‘lib’ is unspecified)\n",
            "\n",
            "R[write to console]: also installing the dependencies ‘bitops’, ‘RCurl’\n",
            "\n",
            "\n",
            "R[write to console]: trying URL 'https://cran.rstudio.com/src/contrib/bitops_1.0-7.tar.gz'\n",
            "\n",
            "R[write to console]: Content type 'application/x-gzip'\n",
            "R[write to console]:  length 10809 bytes (10 KB)\n",
            "\n",
            "R[write to console]: =\n",
            "R[write to console]: =\n",
            "R[write to console]: =\n",
            "R[write to console]: =\n",
            "R[write to console]: =\n",
            "R[write to console]: =\n",
            "R[write to console]: =\n",
            "R[write to console]: =\n",
            "R[write to console]: =\n",
            "R[write to console]: =\n",
            "R[write to console]: =\n",
            "R[write to console]: =\n",
            "R[write to console]: =\n",
            "R[write to console]: =\n",
            "R[write to console]: =\n",
            "R[write to console]: =\n",
            "R[write to console]: =\n",
            "R[write to console]: =\n",
            "R[write to console]: =\n",
            "R[write to console]: =\n",
            "R[write to console]: =\n",
            "R[write to console]: =\n",
            "R[write to console]: =\n",
            "R[write to console]: =\n",
            "R[write to console]: =\n",
            "R[write to console]: =\n",
            "R[write to console]: =\n",
            "R[write to console]: =\n",
            "R[write to console]: =\n",
            "R[write to console]: =\n",
            "R[write to console]: =\n",
            "R[write to console]: =\n",
            "R[write to console]: =\n",
            "R[write to console]: =\n",
            "R[write to console]: =\n",
            "R[write to console]: =\n",
            "R[write to console]: =\n",
            "R[write to console]: =\n",
            "R[write to console]: =\n",
            "R[write to console]: =\n",
            "R[write to console]: =\n",
            "R[write to console]: =\n",
            "R[write to console]: =\n",
            "R[write to console]: =\n",
            "R[write to console]: =\n",
            "R[write to console]: =\n",
            "R[write to console]: =\n",
            "R[write to console]: =\n",
            "R[write to console]: =\n",
            "R[write to console]: =\n",
            "R[write to console]: \n",
            "\n",
            "R[write to console]: downloaded 10 KB\n",
            "\n",
            "\n",
            "R[write to console]: trying URL 'https://cran.rstudio.com/src/contrib/RCurl_1.98-1.5.tar.gz'\n",
            "\n",
            "R[write to console]: Content type 'application/x-gzip'\n",
            "R[write to console]:  length 731359 bytes (714 KB)\n",
            "\n",
            "R[write to console]: =\n",
            "R[write to console]: =\n",
            "R[write to console]: =\n",
            "R[write to console]: =\n",
            "R[write to console]: =\n",
            "R[write to console]: =\n",
            "R[write to console]: =\n",
            "R[write to console]: =\n",
            "R[write to console]: =\n",
            "R[write to console]: =\n",
            "R[write to console]: =\n",
            "R[write to console]: =\n",
            "R[write to console]: =\n",
            "R[write to console]: =\n",
            "R[write to console]: =\n",
            "R[write to console]: =\n",
            "R[write to console]: =\n",
            "R[write to console]: =\n",
            "R[write to console]: =\n",
            "R[write to console]: =\n",
            "R[write to console]: =\n",
            "R[write to console]: =\n",
            "R[write to console]: =\n",
            "R[write to console]: =\n",
            "R[write to console]: =\n",
            "R[write to console]: =\n",
            "R[write to console]: =\n",
            "R[write to console]: =\n",
            "R[write to console]: =\n",
            "R[write to console]: =\n",
            "R[write to console]: =\n",
            "R[write to console]: =\n",
            "R[write to console]: =\n",
            "R[write to console]: =\n",
            "R[write to console]: =\n",
            "R[write to console]: =\n",
            "R[write to console]: =\n",
            "R[write to console]: =\n",
            "R[write to console]: =\n",
            "R[write to console]: =\n",
            "R[write to console]: =\n",
            "R[write to console]: =\n",
            "R[write to console]: =\n",
            "R[write to console]: =\n",
            "R[write to console]: =\n",
            "R[write to console]: =\n",
            "R[write to console]: =\n",
            "R[write to console]: =\n",
            "R[write to console]: =\n",
            "R[write to console]: =\n",
            "R[write to console]: \n",
            "\n",
            "R[write to console]: downloaded 714 KB\n",
            "\n",
            "\n",
            "R[write to console]: trying URL 'https://cran.rstudio.com/src/contrib/swirl_2.4.5.tar.gz'\n",
            "\n",
            "R[write to console]: Content type 'application/x-gzip'\n",
            "R[write to console]:  length 108847 bytes (106 KB)\n",
            "\n",
            "R[write to console]: =\n",
            "R[write to console]: =\n",
            "R[write to console]: =\n",
            "R[write to console]: =\n",
            "R[write to console]: =\n",
            "R[write to console]: =\n",
            "R[write to console]: =\n",
            "R[write to console]: =\n",
            "R[write to console]: =\n",
            "R[write to console]: =\n",
            "R[write to console]: =\n",
            "R[write to console]: =\n",
            "R[write to console]: =\n",
            "R[write to console]: =\n",
            "R[write to console]: =\n",
            "R[write to console]: =\n",
            "R[write to console]: =\n",
            "R[write to console]: =\n",
            "R[write to console]: =\n",
            "R[write to console]: =\n",
            "R[write to console]: =\n",
            "R[write to console]: =\n",
            "R[write to console]: =\n",
            "R[write to console]: =\n",
            "R[write to console]: =\n",
            "R[write to console]: =\n",
            "R[write to console]: =\n",
            "R[write to console]: =\n",
            "R[write to console]: =\n",
            "R[write to console]: =\n",
            "R[write to console]: =\n",
            "R[write to console]: =\n",
            "R[write to console]: =\n",
            "R[write to console]: =\n",
            "R[write to console]: =\n",
            "R[write to console]: =\n",
            "R[write to console]: =\n",
            "R[write to console]: =\n",
            "R[write to console]: =\n",
            "R[write to console]: =\n",
            "R[write to console]: =\n",
            "R[write to console]: =\n",
            "R[write to console]: =\n",
            "R[write to console]: =\n",
            "R[write to console]: =\n",
            "R[write to console]: =\n",
            "R[write to console]: =\n",
            "R[write to console]: =\n",
            "R[write to console]: =\n",
            "R[write to console]: =\n",
            "R[write to console]: \n",
            "\n",
            "R[write to console]: downloaded 106 KB\n",
            "\n",
            "\n",
            "R[write to console]: \n",
            "\n",
            "R[write to console]: \n",
            "R[write to console]: The downloaded source packages are in\n",
            "\t‘/tmp/Rtmp9HKkdy/downloaded_packages’\n",
            "R[write to console]: \n",
            "R[write to console]: \n",
            "\n"
          ]
        }
      ]
    },
    {
      "cell_type": "code",
      "metadata": {
        "colab": {
          "base_uri": "https://localhost:8080/"
        },
        "id": "E_YDx_FCrzBT",
        "outputId": "206a75b4-4d2e-4422-a50f-02ebe714fe2f"
      },
      "source": [
        "%%R\n",
        "library('swirl')"
      ],
      "execution_count": null,
      "outputs": [
        {
          "output_type": "stream",
          "name": "stderr",
          "text": [
            "R[write to console]: \n",
            "| Hi! I see that you have some variables saved in your workspace. To keep\n",
            "| things running smoothly, I recommend you clean up before starting swirl.\n",
            "\n",
            "| Type ls() to see a list of the variables in your workspace. Then, type\n",
            "| rm(list=ls()) to clear your workspace.\n",
            "\n",
            "| Type swirl() when you are ready to begin.\n",
            "\n",
            "\n"
          ]
        }
      ]
    },
    {
      "cell_type": "code",
      "metadata": {
        "id": "z6p06qh0r613"
      },
      "source": [
        "%%R\n",
        "install_course_zip('/content/14_310x_Advanced_R.zip',multi=FALSE)"
      ],
      "execution_count": null,
      "outputs": []
    },
    {
      "cell_type": "code",
      "metadata": {
        "id": "uAou1zsMtC6x"
      },
      "source": [
        "%%R\n",
        "swirl()"
      ],
      "execution_count": null,
      "outputs": []
    },
    {
      "cell_type": "code",
      "metadata": {
        "id": "rpyiv0xqnZ_S"
      },
      "source": [
        "%load_ext rpy2.ipython"
      ],
      "execution_count": null,
      "outputs": []
    },
    {
      "cell_type": "code",
      "metadata": {
        "colab": {
          "base_uri": "https://localhost:8080/"
        },
        "id": "425zjd1qHFBI",
        "outputId": "fef0868e-15e3-44a8-cd86-208e2a23a1be"
      },
      "source": [
        "%%R\n",
        "library(ggplot2)\n",
        "library(tidyverse)\n",
        "#it makes plots in a grid.\n",
        "require(cowplot)"
      ],
      "execution_count": null,
      "outputs": [
        {
          "output_type": "stream",
          "name": "stderr",
          "text": [
            "R[write to console]: Loading required package: cowplot\n",
            "\n"
          ]
        }
      ]
    },
    {
      "cell_type": "code",
      "metadata": {
        "colab": {
          "base_uri": "https://localhost:8080/"
        },
        "id": "dEHgfrk4N59Z",
        "outputId": "b619529e-486e-4245-e8e0-51ca667d20fa"
      },
      "source": [
        "%%R\n",
        "#load in the data \n",
        "bihar_data<-read_csv(\"/content/Bihar_sample_data.csv\")"
      ],
      "execution_count": null,
      "outputs": [
        {
          "output_type": "stream",
          "name": "stdout",
          "text": [
            "Rows: 39553 Columns: 6\n",
            "── Column specification ────────────────────────────────────────────────────────\n",
            "Delimiter: \",\"\n",
            "dbl (6): personid, female, adult, age, height_cm, weight_kg\n",
            "\n",
            "ℹ Use `spec()` to retrieve the full column specification for this data.\n",
            "ℹ Specify the column types or set `show_col_types = FALSE` to quiet this message.\n"
          ]
        }
      ]
    },
    {
      "cell_type": "code",
      "metadata": {
        "colab": {
          "base_uri": "https://localhost:8080/"
        },
        "id": "PcBiqJVHPcqB",
        "outputId": "24a5d106-9970-405e-833a-495b34d62e78"
      },
      "source": [
        "%%R\n",
        "#have a look\n",
        "print(bihar_data)"
      ],
      "execution_count": null,
      "outputs": [
        {
          "output_type": "stream",
          "name": "stdout",
          "text": [
            "# A tibble: 39,553 × 6\n",
            "   personid female adult   age height_cm weight_kg\n",
            "      <dbl>  <dbl> <dbl> <dbl>     <dbl>     <dbl>\n",
            " 1 11010101      0     1    70      164.      48.9\n",
            " 2 11010102      0     1    32      157.      44  \n",
            " 3 11010103      1     1    28      150.      37.7\n",
            " 4 11010104      0     0    12      146.      30.7\n",
            " 5 11010105      1     0    11      135.      30.2\n",
            " 6 11010201      0     1    38      174.      67.7\n",
            " 7 11010202      1     1    30      140.      57.3\n",
            " 8 11010203      0     0    15      163.      59.3\n",
            " 9 11010204      0     0    10      149.      40.7\n",
            "10 11010205      1     0    16      153.      43.9\n",
            "# … with 39,543 more rows\n"
          ]
        }
      ]
    },
    {
      "cell_type": "code",
      "metadata": {
        "id": "tXdZGcgOQCGF"
      },
      "source": [
        "%%R\n",
        "#keep only females\n",
        "bihar_adult_females <-filter(bihar_data, adult==1,female==1) "
      ],
      "execution_count": null,
      "outputs": []
    },
    {
      "cell_type": "code",
      "metadata": {
        "colab": {
          "base_uri": "https://localhost:8080/",
          "height": 769
        },
        "id": "EHq_9TizQa1Q",
        "outputId": "0b68ae96-ec66-48ac-beab-3724a44f3efa"
      },
      "source": [
        "%%R\n",
        "#have a look \n",
        "\n",
        "print(bihar_adult_females)\n",
        "\n",
        "# default histogram in ggplot\n",
        "\n",
        "ggplot(bihar_adult_females, aes(height_cm))+\n",
        "  geom_histogram()\n",
        "\n"
      ],
      "execution_count": null,
      "outputs": [
        {
          "output_type": "stream",
          "name": "stdout",
          "text": [
            "# A tibble: 11,664 × 6\n",
            "   personid female adult   age height_cm weight_kg\n",
            "      <dbl>  <dbl> <dbl> <dbl>     <dbl>     <dbl>\n",
            " 1 11010103      1     1    28      150.      37.7\n",
            " 2 11010202      1     1    30      140.      57.3\n",
            " 3 11010207      1     1    35      148.      38.9\n",
            " 4 11010302      1     1    48      145.      35.7\n",
            " 5 11010303      1     1    22       NA       NA  \n",
            " 6 11010306      1     1    18       NA       NA  \n",
            " 7 11010308      1     1    28      145.      42.4\n",
            " 8 11010402      1     1    58      156.      51.1\n",
            " 9 11010404      1     1    36      156.      50.7\n",
            "10 11010407      1     1    55      156.      47.2\n",
            "# … with 11,654 more rows\n"
          ]
        },
        {
          "output_type": "stream",
          "name": "stderr",
          "text": [
            "R[write to console]: `stat_bin()` using `bins = 30`. Pick better value with `binwidth`.\n",
            "\n"
          ]
        },
        {
          "output_type": "display_data",
          "data": {
            "image/png": "[encoded data removed]"
          },
          "metadata": {}
        }
      ]
    },
    {
      "cell_type": "code",
      "metadata": {
        "colab": {
          "base_uri": "https://localhost:8080/",
          "height": 531
        },
        "id": "GeCmi2gZQoB4",
        "outputId": "84de4f22-bcfc-4500-ab76-fe25591e8c0d"
      },
      "source": [
        "%%R\n",
        "#some people look like they are very small: filtering\n",
        "bihar_adult_females_trunc <-filter(bihar_adult_females, height_cm>120, height_cm<200)\n",
        "\n",
        "#Plotting again, with a nicer label, and some color \n",
        "ggplot(bihar_adult_females_trunc, aes(height_cm))+\n",
        "  geom_histogram(fill=\"blue\", color=\"darkblue\")+\n",
        "  xlab(\"Height in centimeters, Bihar Females\")"
      ],
      "execution_count": null,
      "outputs": [
        {
          "output_type": "stream",
          "name": "stderr",
          "text": [
            "R[write to console]: `stat_bin()` using `bins = 30`. Pick better value with `binwidth`.\n",
            "\n"
          ]
        },
        {
          "output_type": "display_data",
          "data": {
            "image/png": "[encoded data removed]"
          },
          "metadata": {}
        }
      ]
    },
    {
      "cell_type": "code",
      "metadata": {
        "colab": {
          "base_uri": "https://localhost:8080/"
        },
        "id": "ymuFz1t2VN7A",
        "outputId": "df3fb837-b431-4bbc-a7bb-86ddbd58c7fb"
      },
      "source": [
        "%%R\n",
        "install.packages(\"cowplot\")"
      ],
      "execution_count": null,
      "outputs": [
        {
          "output_type": "stream",
          "name": "stderr",
          "text": [
            "R[write to console]: Installing package into ‘/usr/local/lib/R/site-library’\n",
            "(as ‘lib’ is unspecified)\n",
            "\n",
            "R[write to console]: trying URL 'https://cran.rstudio.com/src/contrib/cowplot_1.1.1.tar.gz'\n",
            "\n",
            "R[write to console]: Content type 'application/x-gzip'\n",
            "R[write to console]:  length 1353271 bytes (1.3 MB)\n",
            "\n",
            "R[write to console]: =\n",
            "R[write to console]: =\n",
            "R[write to console]: =\n",
            "R[write to console]: =\n",
            "R[write to console]: =\n",
            "R[write to console]: =\n",
            "R[write to console]: =\n",
            "R[write to console]: =\n",
            "R[write to console]: =\n",
            "R[write to console]: =\n",
            "R[write to console]: =\n",
            "R[write to console]: =\n",
            "R[write to console]: =\n",
            "R[write to console]: =\n",
            "R[write to console]: =\n",
            "R[write to console]: =\n",
            "R[write to console]: =\n",
            "R[write to console]: =\n",
            "R[write to console]: =\n",
            "R[write to console]: =\n",
            "R[write to console]: =\n",
            "R[write to console]: =\n",
            "R[write to console]: =\n",
            "R[write to console]: =\n",
            "R[write to console]: =\n",
            "R[write to console]: =\n",
            "R[write to console]: =\n",
            "R[write to console]: =\n",
            "R[write to console]: =\n",
            "R[write to console]: =\n",
            "R[write to console]: =\n",
            "R[write to console]: =\n",
            "R[write to console]: =\n",
            "R[write to console]: =\n",
            "R[write to console]: =\n",
            "R[write to console]: =\n",
            "R[write to console]: =\n",
            "R[write to console]: =\n",
            "R[write to console]: =\n",
            "R[write to console]: =\n",
            "R[write to console]: =\n",
            "R[write to console]: =\n",
            "R[write to console]: =\n",
            "R[write to console]: =\n",
            "R[write to console]: =\n",
            "R[write to console]: =\n",
            "R[write to console]: =\n",
            "R[write to console]: =\n",
            "R[write to console]: =\n",
            "R[write to console]: =\n",
            "R[write to console]: \n",
            "\n",
            "R[write to console]: downloaded 1.3 MB\n",
            "\n",
            "\n",
            "R[write to console]: \n",
            "\n",
            "R[write to console]: \n",
            "R[write to console]: The downloaded source packages are in\n",
            "\t‘/tmp/RtmpU3jLRu/downloaded_packages’\n",
            "R[write to console]: \n",
            "R[write to console]: \n",
            "\n"
          ]
        }
      ]
    },
    {
      "cell_type": "code",
      "metadata": {
        "id": "-O3UlYRCVey3"
      },
      "source": [
        "%%R\n",
        "library(cowplot)"
      ],
      "execution_count": null,
      "outputs": []
    },
    {
      "cell_type": "code",
      "metadata": {
        "colab": {
          "base_uri": "https://localhost:8080/",
          "height": 497
        },
        "id": "NXtMAA0nVDGJ",
        "outputId": "3914cdec-8ce7-4fca-8c1a-1162b1be4855"
      },
      "source": [
        "%%R\n",
        "#Playing with bins \n",
        "bihar1 <- ggplot(bihar_adult_females_trunc, aes(height_cm))+\n",
        "  geom_histogram(fill=\"blue\", color=\"darkblue\", binwidth = 5)+\n",
        "  xlab(\"bin width=5\")+\n",
        "  ylab(\"\")\n",
        "\n",
        "\n",
        "bihar2 <- ggplot(bihar_adult_females_trunc, aes(height_cm))+\n",
        "  geom_histogram(fill=\"blue\", color=\"darkblue\", binwidth = 10)+\n",
        "  xlab(\"bin width=10\")+\n",
        "  ylab(\"\")\n",
        "\n",
        "\n",
        "bihar3 <- ggplot(bihar_adult_females_trunc, aes(height_cm))+\n",
        "  geom_histogram(fill=\"blue\", color=\"darkblue\", binwidth = 20)+\n",
        "  xlab(\"bin width=20\")+\n",
        "  ylab(\"\")\n",
        "\n",
        "bihar4 <- ggplot(bihar_adult_females_trunc, aes(height_cm))+\n",
        "  geom_histogram(fill=\"blue\", color=\"darkblue\", binwidth = 50)+\n",
        "  xlab(\"bin width=50\")+\n",
        "  ylab(\"\")\n",
        "\n",
        "plot_grid(bihar1, bihar2, bihar3, bihar4, labels=\"Female Height in Bihar\", hjust=-1, vjust=0.2)"
      ],
      "execution_count": null,
      "outputs": [
        {
          "output_type": "display_data",
          "data": {
            "image/png": "[encoded data removed]"
          },
          "metadata": {}
        }
      ]
    },
    {
      "cell_type": "code",
      "metadata": {
        "colab": {
          "base_uri": "https://localhost:8080/"
        },
        "id": "dOh_ONqEVk5X",
        "outputId": "e855f97d-caa9-47f8-95c3-379d8830887e"
      },
      "source": [
        "%%R\n",
        "#US Data from National Health and Nutrition Examination Survey\n",
        "us_data <- read_csv(\"/content/US_sample_data.csv\")\n",
        "\n",
        "print(us_data)"
      ],
      "execution_count": null,
      "outputs": [
        {
          "output_type": "stream",
          "name": "stderr",
          "text": [
            "R[write to console]: New names:\n",
            "* `` -> ...1\n",
            "\n"
          ]
        },
        {
          "output_type": "stream",
          "name": "stdout",
          "text": [
            "Rows: 9813 Columns: 7\n",
            "── Column specification ────────────────────────────────────────────────────────\n",
            "Delimiter: \",\"\n",
            "dbl (7): ...1, seqn, female, adult, age, height_cm, weight_kg\n",
            "\n",
            "ℹ Use `spec()` to retrieve the full column specification for this data.\n",
            "ℹ Specify the column types or set `show_col_types = FALSE` to quiet this message.\n",
            "# A tibble: 9,813 × 7\n",
            "    ...1  seqn female adult   age height_cm weight_kg\n",
            "   <dbl> <dbl>  <dbl> <dbl> <dbl>     <dbl>     <dbl>\n",
            " 1     1 73557      0     1    69      171.      78.3\n",
            " 2     2 73558      0     1    54      177.      89.5\n",
            " 3     3 73559      0     1    72      175.      88.9\n",
            " 4     4 73560      0     0     9      137.      32.2\n",
            " 5     5 73561      1     1    73      162.      52  \n",
            " 6     6 73562      0     1    56      159.     105  \n",
            " 7     7 73563      0     0     0       NA        7.4\n",
            " 8     8 73564      1     1    61      162.      93.4\n",
            " 9     9 73566      1     1    56      153.      61.8\n",
            "10    10 73567      0     1    65      172.      65.3\n",
            "# … with 9,803 more rows\n"
          ]
        }
      ]
    },
    {
      "cell_type": "code",
      "metadata": {
        "colab": {
          "base_uri": "https://localhost:8080/",
          "height": 769
        },
        "id": "hves5bqhaBjE",
        "outputId": "ab28a6cb-d630-4b82-b784-7fc846dd4e68"
      },
      "source": [
        "%%R\n",
        "# Subset the data for adult females\n",
        "us_adult_females_trunc <- filter(us_data,female==1 , adult==1, height_cm>120 , height_cm<200)\n",
        "\n",
        "print(us_adult_females_trunc)\n",
        "\n",
        "\n",
        "#Plotting the US women in one go\n",
        "ggplot(us_adult_females_trunc, aes(height_cm))+\n",
        "  geom_histogram(fill=\"red\", color=\"darkred\")+\n",
        "  xlab(\"Height in centimeters, US females\")"
      ],
      "execution_count": null,
      "outputs": [
        {
          "output_type": "stream",
          "name": "stdout",
          "text": [
            "# A tibble: 2,969 × 7\n",
            "    ...1  seqn female adult   age height_cm weight_kg\n",
            "   <dbl> <dbl>  <dbl> <dbl> <dbl>     <dbl>     <dbl>\n",
            " 1     5 73561      1     1    73      162.      52  \n",
            " 2     8 73564      1     1    61      162.      93.4\n",
            " 3     9 73566      1     1    56      153.      61.8\n",
            " 4    11 73568      1     1    26      152.      47.1\n",
            " 5    16 73574      1     1    33      158       56.8\n",
            " 6    22 73580      1     1    38      161.      93.5\n",
            " 7    24 73582      1     1    23      158.      46.7\n",
            " 8    38 73596      1     1    57      165.     104  \n",
            " 9    39 73597      1     1    50      180.     104. \n",
            "10    46 73604      1     1    69      157.      59.5\n",
            "# … with 2,959 more rows\n"
          ]
        },
        {
          "output_type": "stream",
          "name": "stderr",
          "text": [
            "R[write to console]: `stat_bin()` using `bins = 30`. Pick better value with `binwidth`.\n",
            "\n"
          ]
        },
        {
          "output_type": "display_data",
          "data": {
            "image/png": "[encoded data removed]"
          },
          "metadata": {}
        }
      ]
    },
    {
      "cell_type": "code",
      "metadata": {
        "colab": {
          "base_uri": "https://localhost:8080/",
          "height": 531
        },
        "id": "KgWXdWQIaDxf",
        "outputId": "3a853477-d028-4487-ff70-8136648d6e83"
      },
      "source": [
        "%%R\n",
        "# kernel density estimation\n",
        "\n",
        "ggplot(us_adult_females_trunc, aes(height_cm))+\n",
        "  geom_histogram(data=us_adult_females_trunc, aes(height_cm , ..density..), fill=\"white\" , color=\"darkred\")+\n",
        "  geom_density(kernel=\"gaussian\", aes(height_cm))"
      ],
      "execution_count": null,
      "outputs": [
        {
          "output_type": "stream",
          "name": "stderr",
          "text": [
            "R[write to console]: `stat_bin()` using `bins = 30`. Pick better value with `binwidth`.\n",
            "\n"
          ]
        },
        {
          "output_type": "display_data",
          "data": {
            "image/png": "[encoded data removed]"
          },
          "metadata": {}
        }
      ]
    },
    {
      "cell_type": "code",
      "metadata": {
        "colab": {
          "base_uri": "https://localhost:8080/",
          "height": 633
        },
        "id": "VVbpjcp3drp_",
        "outputId": "111e1d3f-af80-4d53-9eeb-73971e2b0c2d"
      },
      "source": [
        "%%R\n",
        "#playing with the bandwidth\n",
        "\n",
        "US1 <- ggplot(us_adult_females_trunc, aes(height_cm))+\n",
        "  geom_histogram(data=us_adult_females_trunc, aes(height_cm , ..density..), fill=\"white\" , color=\"darkred\")+\n",
        "  geom_density(kernel=\"gaussian\", aes(height_cm), bw=1)+\n",
        "  xlab(\"bw=1\")+\n",
        "  ylab(\"\")\n",
        "\n",
        "US2 <- ggplot(us_adult_females_trunc, aes(height_cm))+\n",
        "  geom_histogram(data=us_adult_females_trunc, aes(height_cm , ..density..), fill=\"white\" , color=\"darkred\")+\n",
        "  geom_density(kernel=\"gaussian\", aes(height_cm), bw=5)+\n",
        "  xlab(\"bw=5\")+\n",
        "  ylab(\"\")\n",
        "\n",
        "US3 <- ggplot(us_adult_females_trunc, aes(height_cm))+\n",
        "  geom_histogram(data=us_adult_females_trunc, aes(height_cm , ..density..), fill=\"white\" , color=\"darkred\")+\n",
        "  geom_density(kernel=\"gaussian\", aes(height_cm), bw=10)+\n",
        "  xlab(\"bw=10\")+\n",
        "  ylab(\"\")\n",
        "\n",
        "US4 <- ggplot(us_adult_females_trunc, aes(height_cm))+\n",
        "  geom_histogram(data=us_adult_females_trunc, aes(height_cm , ..density..), fill=\"white\" , color=\"darkred\")+\n",
        "  geom_density(kernel=\"gaussian\", aes(height_cm), bw=20)+\n",
        "  xlab(\"bw=20\")+\n",
        "  ylab(\"\")\n",
        "\n",
        "plot_grid(US1, US2, US3, US4, labels=\"Female Height in the US\", hjust=-1, vjust=0.2)"
      ],
      "execution_count": null,
      "outputs": [
        {
          "output_type": "stream",
          "name": "stderr",
          "text": [
            "R[write to console]: `stat_bin()` using `bins = 30`. Pick better value with `binwidth`.\n",
            "\n",
            "R[write to console]: `stat_bin()` using `bins = 30`. Pick better value with `binwidth`.\n",
            "\n",
            "R[write to console]: `stat_bin()` using `bins = 30`. Pick better value with `binwidth`.\n",
            "\n",
            "R[write to console]: `stat_bin()` using `bins = 30`. Pick better value with `binwidth`.\n",
            "\n"
          ]
        },
        {
          "output_type": "display_data",
          "data": {
            "image/png": "[encoded data removed]"
          },
          "metadata": {}
        }
      ]
    },
    {
      "cell_type": "code",
      "metadata": {
        "colab": {
          "base_uri": "https://localhost:8080/",
          "height": 565
        },
        "id": "d-Ii1z9Yih-n",
        "outputId": "4e3fc668-9143-44df-e3ec-f35685997096"
      },
      "source": [
        "%%R\n",
        "#combining the two histograms\n",
        "ggplot(bihar_adult_females_trunc, aes(height_cm))+\n",
        "  geom_histogram(data=bihar_adult_females_trunc, aes(height_cm),fill=\"blue\", color=\"darkblue\" )+\n",
        "  geom_histogram(data=us_adult_females_trunc, aes(height_cm), fill=\"red\", color=\"darkred\" )"
      ],
      "execution_count": null,
      "outputs": [
        {
          "output_type": "stream",
          "name": "stderr",
          "text": [
            "R[write to console]: `stat_bin()` using `bins = 30`. Pick better value with `binwidth`.\n",
            "\n",
            "R[write to console]: `stat_bin()` using `bins = 30`. Pick better value with `binwidth`.\n",
            "\n"
          ]
        },
        {
          "output_type": "display_data",
          "data": {
            "image/png": "[encoded data removed]"
          },
          "metadata": {}
        }
      ]
    },
    {
      "cell_type": "code",
      "metadata": {
        "colab": {
          "base_uri": "https://localhost:8080/",
          "height": 565
        },
        "id": "6bp20zAAjKJY",
        "outputId": "e89390fc-7d25-4c9a-d6f8-fd4fa4c3c09d"
      },
      "source": [
        "%%R\n",
        "#makes no sense to do it as count! \n",
        "\n",
        "ggplot(bihar_adult_females_trunc, aes(height_cm))+\n",
        "  geom_histogram(data=bihar_adult_females_trunc, aes(height_cm, ..density.. ),fill=\"blue\", color=\"darkblue\")+\n",
        "  geom_histogram(data=us_adult_females_trunc, aes(height_cm , ..density..), fill=\"red\", color=\"darkred\" )+\n",
        "  xlab(\"Height in centimeters\")\n",
        "\n",
        "\n"
      ],
      "execution_count": null,
      "outputs": [
        {
          "output_type": "stream",
          "name": "stderr",
          "text": [
            "R[write to console]: `stat_bin()` using `bins = 30`. Pick better value with `binwidth`.\n",
            "\n",
            "R[write to console]: `stat_bin()` using `bins = 30`. Pick better value with `binwidth`.\n",
            "\n"
          ]
        },
        {
          "output_type": "display_data",
          "data": {
            "image/png": "[encoded data removed]"
          },
          "metadata": {}
        }
      ]
    },
    {
      "cell_type": "code",
      "metadata": {
        "colab": {
          "base_uri": "https://localhost:8080/",
          "height": 565
        },
        "id": "DN5FqVHwjSCO",
        "outputId": "5dfa8f0b-39f8-4ba1-877f-e7f556e63e2a"
      },
      "source": [
        "%%R\n",
        "# more visible as points \n",
        "\n",
        "ggplot(bihar_adult_females_trunc, aes(height_cm))+\n",
        "  geom_freqpoly(data=bihar_adult_females_trunc, aes(height_cm, ..density.. ), color=\"darkblue\" )+\n",
        "  geom_freqpoly(data=us_adult_females_trunc, aes(height_cm , ..density..),  color=\"darkred\" )+\n",
        "  xlab(\"Height in centimeters\")"
      ],
      "execution_count": null,
      "outputs": [
        {
          "output_type": "stream",
          "name": "stderr",
          "text": [
            "R[write to console]: `stat_bin()` using `bins = 30`. Pick better value with `binwidth`.\n",
            "\n",
            "R[write to console]: `stat_bin()` using `bins = 30`. Pick better value with `binwidth`.\n",
            "\n"
          ]
        },
        {
          "output_type": "display_data",
          "data": {
            "image/png": "[encoded data removed]"
          },
          "metadata": {}
        }
      ]
    },
    {
      "cell_type": "code",
      "metadata": {
        "colab": {
          "base_uri": "https://localhost:8080/",
          "height": 497
        },
        "id": "ZIp5BFSUE8bu",
        "outputId": "61b22564-868b-4bac-989d-0a9a733de972"
      },
      "source": [
        "%%R\n",
        "# Kernel density\n",
        "\n",
        "ggplot(bihar_adult_females_trunc, aes(height_cm))+\n",
        "  geom_density(data=bihar_adult_females_trunc, aes(height_cm), color=\"darkblue\" )+\n",
        "  geom_density(data=us_adult_females_trunc, aes(height_cm),  color=\"darkred\" )+\n",
        "  xlab(\"Height in centimeters\")"
      ],
      "execution_count": null,
      "outputs": [
        {
          "output_type": "display_data",
          "data": {
            "image/png": "[encoded data removed]"
          },
          "metadata": {}
        }
      ]
    },
    {
      "cell_type": "code",
      "metadata": {
        "colab": {
          "base_uri": "https://localhost:8080/",
          "height": 497
        },
        "id": "OfNrXDqNFeVZ",
        "outputId": "9ec31b88-f77a-43eb-d29d-36f739930cf1"
      },
      "source": [
        "%%R\n",
        "# Representing the CDF\n",
        "\n",
        "ggplot(bihar_adult_females_trunc, aes(height_cm))+\n",
        "  stat_ecdf(data=bihar_adult_females_trunc, aes(height_cm), color=\"darkblue\" )+\n",
        "  stat_ecdf(data=us_adult_females_trunc, aes(height_cm),  color=\"darkred\" )+\n",
        "  xlab(\"Height in centimeters\")"
      ],
      "execution_count": null,
      "outputs": [
        {
          "output_type": "display_data",
          "data": {
            "image/png": "[encoded data removed]"
          },
          "metadata": {}
        }
      ]
    },
    {
      "cell_type": "code",
      "metadata": {
        "id": "pluZ3wCM-EVV"
      },
      "source": [
        "###Homework3\n",
        "\n",
        "%load_ext rpy2.ipython\n"
      ],
      "execution_count": 1,
      "outputs": []
    },
    {
      "cell_type": "code",
      "metadata": {
        "colab": {
          "base_uri": "https://localhost:8080/"
        },
        "id": "joswjQES-uwH",
        "outputId": "1d8f7bee-eb5b-44b0-c6f8-5dd6d6cffd1f"
      },
      "source": [
        "%%R\n",
        "#Preliminaries\n",
        "rm(list=ls())\n",
        "library(\"utils\")\n",
        "library(\"tidyverse\")"
      ],
      "execution_count": 3,
      "outputs": [
        {
          "output_type": "stream",
          "name": "stderr",
          "text": [
            "R[write to console]: ── Attaching packages ─────────────────────────────────────── tidyverse 1.3.1 ──\n",
            "\n",
            "R[write to console]: ✔ ggplot2 3.3.5     ✔ purrr   0.3.4\n",
            "✔ tibble  3.1.4     ✔ dplyr   1.0.7\n",
            "✔ tidyr   1.1.3     ✔ stringr 1.4.0\n",
            "✔ readr   2.0.1     ✔ forcats 0.5.1\n",
            "\n",
            "R[write to console]: ── Conflicts ────────────────────────────────────────── tidyverse_conflicts() ──\n",
            "✖ dplyr::filter() masks stats::filter()\n",
            "✖ dplyr::lag()    masks stats::lag()\n",
            "\n"
          ]
        }
      ]
    },
    {
      "cell_type": "code",
      "metadata": {
        "colab": {
          "base_uri": "https://localhost:8080/"
        },
        "id": "OBC-23f4-R-m",
        "outputId": "80a4ac89-4cb5-4267-849d-0716abaca48c"
      },
      "source": [
        "%%R\n",
        "gender_data <- read_csv(\"/content/Gender_StatsData.csv\")"
      ],
      "execution_count": 4,
      "outputs": [
        {
          "output_type": "stream",
          "name": "stderr",
          "text": [
            "R[write to console]: New names:\n",
            "* `` -> ...1\n",
            "\n"
          ]
        },
        {
          "output_type": "stream",
          "name": "stdout",
          "text": [
            "Rows: 7101 Columns: 64\n",
            "── Column specification ────────────────────────────────────────────────────────\n",
            "Delimiter: \",\"\n",
            "chr  (4): Country.Name, Country.Code, Indicator.Name, Indicator.Code\n",
            "dbl (59): ...1, X1960, X1961, X1962, X1963, X1964, X1965, X1966, X1967, X196...\n",
            "lgl  (1): X\n",
            "\n",
            "ℹ Use `spec()` to retrieve the full column specification for this data.\n",
            "ℹ Specify the column types or set `show_col_types = FALSE` to quiet this message.\n"
          ]
        }
      ]
    },
    {
      "cell_type": "code",
      "metadata": {
        "colab": {
          "base_uri": "https://localhost:8080/"
        },
        "id": "P3tG0q3fBIVR",
        "outputId": "50caa819-a888-445d-a63c-3b022c5c6263"
      },
      "source": [
        "%%R\n",
        "gender_data"
      ],
      "execution_count": 5,
      "outputs": [
        {
          "output_type": "stream",
          "name": "stdout",
          "text": [
            "# A tibble: 7,101 × 64\n",
            "    ...1 Country.Name Country.Code Indicator.Name     Indicator.Code X1960 X1961\n",
            "   <dbl> <chr>        <chr>        <chr>              <chr>          <dbl> <dbl>\n",
            " 1     1 Arab World   ARB          Adolescent fertil… SP.ADO.TFRT    134.  135. \n",
            " 2     2 Arab World   ARB          Age at first marr… SP.DYN.SMAM.FE  NA    NA  \n",
            " 3     3 Arab World   ARB          Age at first marr… SP.DYN.SMAM.MA  NA    NA  \n",
            " 4     4 Arab World   ARB          Age dependency ra… SP.POP.DPND     88.2  89.6\n",
            " 5     5 Arab World   ARB          Age population, a… SP.POP.AG00.F…  NA    NA  \n",
            " 6     6 Arab World   ARB          Age population, a… SP.POP.AG00.M…  NA    NA  \n",
            " 7     7 Arab World   ARB          Age population, a… SP.POP.AG01.F…  NA    NA  \n",
            " 8     8 Arab World   ARB          Age population, a… SP.POP.AG02.F…  NA    NA  \n",
            " 9     9 Arab World   ARB          Age population, a… SP.POP.AG02.M…  NA    NA  \n",
            "10    10 Arab World   ARB          Age population, a… SP.POP.AG03.F…  NA    NA  \n",
            "# … with 7,091 more rows, and 57 more variables: X1962 <dbl>, X1963 <dbl>,\n",
            "#   X1964 <dbl>, X1965 <dbl>, X1966 <dbl>, X1967 <dbl>, X1968 <dbl>,\n",
            "#   X1969 <dbl>, X1970 <dbl>, X1971 <dbl>, X1972 <dbl>, X1973 <dbl>,\n",
            "#   X1974 <dbl>, X1975 <dbl>, X1976 <dbl>, X1977 <dbl>, X1978 <dbl>,\n",
            "#   X1979 <dbl>, X1980 <dbl>, X1981 <dbl>, X1982 <dbl>, X1983 <dbl>,\n",
            "#   X1984 <dbl>, X1985 <dbl>, X1986 <dbl>, X1987 <dbl>, X1988 <dbl>,\n",
            "#   X1989 <dbl>, X1990 <dbl>, X1991 <dbl>, X1992 <dbl>, X1993 <dbl>, …\n"
          ]
        }
      ]
    },
    {
      "cell_type": "markdown",
      "metadata": {
        "id": "OrlTwrVtB5tF"
      },
      "source": [
        "The first thing you want to figure out when you look at a new dataset is how it is organized. If your dataset is stored as a tibble, you can simply print the object and it will print in a nice-looking format.\n",
        "\n",
        "Alternatively, you can also use the built-in R commands such as str(), which allows you to see the structure of an object in R. Likewise, the commands head() and tail() will allow you to see the first six and last six observations of your data frame respectively. Another useful function is the function dim(), which will give you the number of rows and columns in your dataset. Take the time to explore the data using these commands and others."
      ]
    },
    {
      "cell_type": "code",
      "metadata": {
        "colab": {
          "base_uri": "https://localhost:8080/"
        },
        "id": "2r7IHy8kB98O",
        "outputId": "10f76e83-e08b-4017-d473-1e309a145b7e"
      },
      "source": [
        "%%R\n",
        "str(gender_data)"
      ],
      "execution_count": 6,
      "outputs": [
        {
          "output_type": "stream",
          "name": "stdout",
          "text": [
            "spec_tbl_df [7,101 × 64] (S3: spec_tbl_df/tbl_df/tbl/data.frame)\n",
            " $ ...1          : num [1:7101] 1 2 3 4 5 6 7 8 9 10 ...\n",
            " $ Country.Name  : chr [1:7101] \"Arab World\" \"Arab World\" \"Arab World\" \"Arab World\" ...\n",
            " $ Country.Code  : chr [1:7101] \"ARB\" \"ARB\" \"ARB\" \"ARB\" ...\n",
            " $ Indicator.Name: chr [1:7101] \"Adolescent fertility rate (births per 1,000 women ages 15-19)\" \"Age at first marriage, female\" \"Age at first marriage, male\" \"Age dependency ratio (% of working-age population)\" ...\n",
            " $ Indicator.Code: chr [1:7101] \"SP.ADO.TFRT\" \"SP.DYN.SMAM.FE\" \"SP.DYN.SMAM.MA\" \"SP.POP.DPND\" ...\n",
            " $ X1960         : num [1:7101] 134.2 NA NA 88.2 NA ...\n",
            " $ X1961         : num [1:7101] 134.8 NA NA 89.6 NA ...\n",
            " $ X1962         : num [1:7101] 135.6 NA NA 90.9 NA ...\n",
            " $ X1963         : num [1:7101] 135.4 NA NA 92.1 NA ...\n",
            " $ X1964         : num [1:7101] 135.3 NA NA 92.9 NA ...\n",
            " $ X1965         : num [1:7101] 134.9 NA NA 93.4 NA ...\n",
            " $ X1966         : num [1:7101] 134.2 NA NA 94.2 NA ...\n",
            " $ X1967         : num [1:7101] 133.4 NA NA 94.6 NA ...\n",
            " $ X1968         : num [1:7101] 130.9 NA NA 94.7 NA ...\n",
            " $ X1969         : num [1:7101] 128.4 NA NA 94.6 NA ...\n",
            " $ X1970         : num [1:7101] 126.1 NA NA 94.3 NA ...\n",
            " $ X1971         : num [1:7101] 123.8 NA NA 94.6 NA ...\n",
            " $ X1972         : num [1:7101] 121.8 NA NA 94.6 NA ...\n",
            " $ X1973         : num [1:7101] 119.6 NA NA 94.5 NA ...\n",
            " $ X1974         : num [1:7101] 117.5 NA NA 94.2 NA ...\n",
            " $ X1975         : num [1:7101] 115.2 NA NA 93.9 NA ...\n",
            " $ X1976         : num [1:7101] 112.9 NA NA 93.7 NA ...\n",
            " $ X1977         : num [1:7101] 110.5 NA NA 93.4 NA ...\n",
            " $ X1978         : num [1:7101] 106.7 NA NA 93.1 NA ...\n",
            " $ X1979         : num [1:7101] 102.9 NA NA 92.7 NA ...\n",
            " $ X1980         : num [1:7101] 99.1 NA NA 92.2 NA ...\n",
            " $ X1981         : num [1:7101] 95.5 NA NA 91.9 NA ...\n",
            " $ X1982         : num [1:7101] 92 NA NA 91.4 NA ...\n",
            " $ X1983         : num [1:7101] 88.2 NA NA 90.9 NA ...\n",
            " $ X1984         : num [1:7101] 84.4 NA NA 90.3 NA ...\n",
            " $ X1985         : num [1:7101] 80.6 NA NA 89.6 NA ...\n",
            " $ X1986         : num [1:7101] 76.7 NA NA 89.4 NA ...\n",
            " $ X1987         : num [1:7101] 72.8 NA NA 89 NA ...\n",
            " $ X1988         : num [1:7101] 71.6 NA NA 88.6 NA ...\n",
            " $ X1989         : num [1:7101] 70.3 NA NA 88 NA ...\n",
            " $ X1990         : num [1:7101] 69.5 NA NA 87.5 NA ...\n",
            " $ X1991         : num [1:7101] 68.2 NA NA 86.7 NA ...\n",
            " $ X1992         : num [1:7101] 67.3 NA NA 86.1 NA ...\n",
            " $ X1993         : num [1:7101] 65.3 NA NA 84.9 NA ...\n",
            " $ X1994         : num [1:7101] 63.2 NA NA 83.6 NA ...\n",
            " $ X1995         : num [1:7101] 60.9 NA NA 81.9 NA ...\n",
            " $ X1996         : num [1:7101] 58.8 NA NA 80.6 NA ...\n",
            " $ X1997         : num [1:7101] 56.6 NA NA 79.1 NA ...\n",
            " $ X1998         : num [1:7101] 55.7 NA NA 77.7 NA ...\n",
            " $ X1999         : num [1:7101] 54.9 NA NA 76.2 NA ...\n",
            " $ X2000         : num [1:7101] 54.2 NA NA 74.7 NA ...\n",
            " $ X2001         : num [1:7101] 53.3 NA NA 73.2 NA ...\n",
            " $ X2002         : num [1:7101] 52.5 NA NA 71.7 NA ...\n",
            " $ X2003         : num [1:7101] 52 NA NA 70.3 NA ...\n",
            " $ X2004         : num [1:7101] 51.6 NA NA 68.9 NA ...\n",
            " $ X2005         : num [1:7101] 51.3 NA NA 67.6 NA ...\n",
            " $ X2006         : num [1:7101] 50.9 NA NA 66.4 NA ...\n",
            " $ X2007         : num [1:7101] 50.5 NA NA 65.3 NA ...\n",
            " $ X2008         : num [1:7101] 50.3 NA NA 64.2 NA ...\n",
            " $ X2009         : num [1:7101] 50.1 NA NA 63.4 NA ...\n",
            " $ X2010         : num [1:7101] 49.9 NA NA 62.7 NA ...\n",
            " $ X2011         : num [1:7101] 49.7 NA NA 62.3 NA ...\n",
            " $ X2012         : num [1:7101] 49.5 NA NA 62.2 NA ...\n",
            " $ X2013         : num [1:7101] 49.1 NA NA 62.1 NA ...\n",
            " $ X2014         : num [1:7101] 48.6 NA NA 62.1 NA ...\n",
            " $ X2015         : num [1:7101] 48.1 NA NA 62 NA ...\n",
            " $ X2016         : num [1:7101] 47.4 NA NA 62.1 NA ...\n",
            " $ X2017         : num [1:7101] NA NA NA 61.9 NA ...\n",
            " $ X             : logi [1:7101] NA NA NA NA NA NA ...\n",
            " - attr(*, \"spec\")=\n",
            "  .. cols(\n",
            "  ..   ...1 = col_double(),\n",
            "  ..   Country.Name = col_character(),\n",
            "  ..   Country.Code = col_character(),\n",
            "  ..   Indicator.Name = col_character(),\n",
            "  ..   Indicator.Code = col_character(),\n",
            "  ..   X1960 = col_double(),\n",
            "  ..   X1961 = col_double(),\n",
            "  ..   X1962 = col_double(),\n",
            "  ..   X1963 = col_double(),\n",
            "  ..   X1964 = col_double(),\n",
            "  ..   X1965 = col_double(),\n",
            "  ..   X1966 = col_double(),\n",
            "  ..   X1967 = col_double(),\n",
            "  ..   X1968 = col_double(),\n",
            "  ..   X1969 = col_double(),\n",
            "  ..   X1970 = col_double(),\n",
            "  ..   X1971 = col_double(),\n",
            "  ..   X1972 = col_double(),\n",
            "  ..   X1973 = col_double(),\n",
            "  ..   X1974 = col_double(),\n",
            "  ..   X1975 = col_double(),\n",
            "  ..   X1976 = col_double(),\n",
            "  ..   X1977 = col_double(),\n",
            "  ..   X1978 = col_double(),\n",
            "  ..   X1979 = col_double(),\n",
            "  ..   X1980 = col_double(),\n",
            "  ..   X1981 = col_double(),\n",
            "  ..   X1982 = col_double(),\n",
            "  ..   X1983 = col_double(),\n",
            "  ..   X1984 = col_double(),\n",
            "  ..   X1985 = col_double(),\n",
            "  ..   X1986 = col_double(),\n",
            "  ..   X1987 = col_double(),\n",
            "  ..   X1988 = col_double(),\n",
            "  ..   X1989 = col_double(),\n",
            "  ..   X1990 = col_double(),\n",
            "  ..   X1991 = col_double(),\n",
            "  ..   X1992 = col_double(),\n",
            "  ..   X1993 = col_double(),\n",
            "  ..   X1994 = col_double(),\n",
            "  ..   X1995 = col_double(),\n",
            "  ..   X1996 = col_double(),\n",
            "  ..   X1997 = col_double(),\n",
            "  ..   X1998 = col_double(),\n",
            "  ..   X1999 = col_double(),\n",
            "  ..   X2000 = col_double(),\n",
            "  ..   X2001 = col_double(),\n",
            "  ..   X2002 = col_double(),\n",
            "  ..   X2003 = col_double(),\n",
            "  ..   X2004 = col_double(),\n",
            "  ..   X2005 = col_double(),\n",
            "  ..   X2006 = col_double(),\n",
            "  ..   X2007 = col_double(),\n",
            "  ..   X2008 = col_double(),\n",
            "  ..   X2009 = col_double(),\n",
            "  ..   X2010 = col_double(),\n",
            "  ..   X2011 = col_double(),\n",
            "  ..   X2012 = col_double(),\n",
            "  ..   X2013 = col_double(),\n",
            "  ..   X2014 = col_double(),\n",
            "  ..   X2015 = col_double(),\n",
            "  ..   X2016 = col_double(),\n",
            "  ..   X2017 = col_double(),\n",
            "  ..   X = col_logical()\n",
            "  .. )\n",
            " - attr(*, \"problems\")=<externalptr> \n"
          ]
        }
      ]
    },
    {
      "cell_type": "code",
      "metadata": {
        "colab": {
          "base_uri": "https://localhost:8080/"
        },
        "id": "V6AdGjsDCerd",
        "outputId": "4053b455-522d-4242-ba76-93525071970a"
      },
      "source": [
        "%%R\n",
        "head(gender_data)"
      ],
      "execution_count": 7,
      "outputs": [
        {
          "output_type": "stream",
          "name": "stdout",
          "text": [
            "# A tibble: 6 × 64\n",
            "   ...1 Country.Name Country.Code Indicator.Name      Indicator.Code X1960 X1961\n",
            "  <dbl> <chr>        <chr>        <chr>               <chr>          <dbl> <dbl>\n",
            "1     1 Arab World   ARB          Adolescent fertili… SP.ADO.TFRT    134.  135. \n",
            "2     2 Arab World   ARB          Age at first marri… SP.DYN.SMAM.FE  NA    NA  \n",
            "3     3 Arab World   ARB          Age at first marri… SP.DYN.SMAM.MA  NA    NA  \n",
            "4     4 Arab World   ARB          Age dependency rat… SP.POP.DPND     88.2  89.6\n",
            "5     5 Arab World   ARB          Age population, ag… SP.POP.AG00.F…  NA    NA  \n",
            "6     6 Arab World   ARB          Age population, ag… SP.POP.AG00.M…  NA    NA  \n",
            "# … with 57 more variables: X1962 <dbl>, X1963 <dbl>, X1964 <dbl>, X1965 <dbl>,\n",
            "#   X1966 <dbl>, X1967 <dbl>, X1968 <dbl>, X1969 <dbl>, X1970 <dbl>,\n",
            "#   X1971 <dbl>, X1972 <dbl>, X1973 <dbl>, X1974 <dbl>, X1975 <dbl>,\n",
            "#   X1976 <dbl>, X1977 <dbl>, X1978 <dbl>, X1979 <dbl>, X1980 <dbl>,\n",
            "#   X1981 <dbl>, X1982 <dbl>, X1983 <dbl>, X1984 <dbl>, X1985 <dbl>,\n",
            "#   X1986 <dbl>, X1987 <dbl>, X1988 <dbl>, X1989 <dbl>, X1990 <dbl>,\n",
            "#   X1991 <dbl>, X1992 <dbl>, X1993 <dbl>, X1994 <dbl>, X1995 <dbl>, …\n"
          ]
        }
      ]
    },
    {
      "cell_type": "code",
      "metadata": {
        "colab": {
          "base_uri": "https://localhost:8080/"
        },
        "id": "lp1mWxCfCi61",
        "outputId": "d2ddf4c8-021e-418d-cbbd-dd43a058b71e"
      },
      "source": [
        "%%R\n",
        "tail(gender_data)"
      ],
      "execution_count": 8,
      "outputs": [
        {
          "output_type": "stream",
          "name": "stdout",
          "text": [
            "# A tibble: 6 × 64\n",
            "   ...1 Country.Name Country.Code Indicator.Name      Indicator.Code X1960 X1961\n",
            "  <dbl> <chr>        <chr>        <chr>               <chr>          <dbl> <dbl>\n",
            "1  7096 Zimbabwe     ZWE          Contraceptive prev… SP.DYN.CONM.ZS  NA    NA  \n",
            "2  7097 Zimbabwe     ZWE          Death rate, crude … SP.DYN.CDRT.IN  15.6  15.3\n",
            "3  7098 Zimbabwe     ZWE          Life expectancy at… SP.DYN.LE60.F…  NA    NA  \n",
            "4  7099 Zimbabwe     ZWE          Life expectancy at… SP.DYN.LE60.M…  NA    NA  \n",
            "5  7100 Zimbabwe     ZWE          Life expectancy at… SP.DYN.LE00.F…  53.2  53.6\n",
            "6  7101 Zimbabwe     ZWE          Life expectancy at… SP.DYN.LE00.M…  50.0  50.4\n",
            "# … with 57 more variables: X1962 <dbl>, X1963 <dbl>, X1964 <dbl>, X1965 <dbl>,\n",
            "#   X1966 <dbl>, X1967 <dbl>, X1968 <dbl>, X1969 <dbl>, X1970 <dbl>,\n",
            "#   X1971 <dbl>, X1972 <dbl>, X1973 <dbl>, X1974 <dbl>, X1975 <dbl>,\n",
            "#   X1976 <dbl>, X1977 <dbl>, X1978 <dbl>, X1979 <dbl>, X1980 <dbl>,\n",
            "#   X1981 <dbl>, X1982 <dbl>, X1983 <dbl>, X1984 <dbl>, X1985 <dbl>,\n",
            "#   X1986 <dbl>, X1987 <dbl>, X1988 <dbl>, X1989 <dbl>, X1990 <dbl>,\n",
            "#   X1991 <dbl>, X1992 <dbl>, X1993 <dbl>, X1994 <dbl>, X1995 <dbl>, …\n"
          ]
        }
      ]
    },
    {
      "cell_type": "code",
      "metadata": {
        "colab": {
          "base_uri": "https://localhost:8080/"
        },
        "id": "gATjTEj5CoyF",
        "outputId": "e2470da9-7dab-45de-b7a8-da47bed951da"
      },
      "source": [
        "%%R\n",
        "dim(gender_data)\n"
      ],
      "execution_count": 9,
      "outputs": [
        {
          "output_type": "stream",
          "name": "stdout",
          "text": [
            "[1] 7101   64\n"
          ]
        }
      ]
    },
    {
      "cell_type": "markdown",
      "metadata": {
        "id": "mTozlC02C4dW"
      },
      "source": [
        "Which of the following statements best describes how your data is organized? Note that we use \"indicator\" to mean something that is being measured (e.g. fertility rate, enrollment rate, etc.).\n",
        "\n",
        "![image.png](data:image/png;base64,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)"
      ]
    },
    {
      "cell_type": "markdown",
      "metadata": {
        "id": "d3nH4GUwDBWf"
      },
      "source": [
        "Now, generate a tibble called ”teenager_fr”, which contains only the adolescent fertility rate indicator for each country-year. Please fill in the blank with the correct code."
      ]
    },
    {
      "cell_type": "code",
      "metadata": {
        "id": "kNE0ci4lFGZH"
      },
      "source": [
        "%%R\n",
        "teenager_fr <- filter(gender_data, Indicator.Code == \"SP.ADO.TFRT\")"
      ],
      "execution_count": 11,
      "outputs": []
    },
    {
      "cell_type": "markdown",
      "metadata": {
        "id": "Bdb53XtwFiHf"
      },
      "source": [
        "What is the equivalent base-R function ? \n",
        "\n",
        "![image.png](data:image/png;base64,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)"
      ]
    },
    {
      "cell_type": "markdown",
      "metadata": {
        "id": "HTAfAMFoFlPH"
      },
      "source": [
        "Since we are not interested in any other variables and the gender_data dataset is quite large, you might want to get rid of it instead of asking R to keep it stored in memory.\n",
        "\n",
        "Which of the following is the correct code for getting rid of the object gender_data?\n",
        "\n",
        "![image.png](data:image/png;base64,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)"
      ]
    },
    {
      "cell_type": "code",
      "metadata": {
        "id": "vzbw2uuTF5KZ"
      },
      "source": [
        "%%R\n",
        "rm(gender_data)"
      ],
      "execution_count": 12,
      "outputs": []
    },
    {
      "cell_type": "markdown",
      "metadata": {
        "id": "gmmtgM6dGUqt"
      },
      "source": [
        "Now that you have loaded the data we want to analyze and have familiarized yourself with the structure, it is time to get our hands dirty!\n",
        "\n",
        "A second exploratory thing to do once we have organized a data set is to get basic summary statistics of the data. Now let’s do this! To print summary statistics directly in your console, you can use any of the basic summary functions in R (mean(), sd(), min(), max(), sum()…). The basic summary functions take vectors as an input, and output a single value.\n",
        "\n",
        "For example, if you were interested in obtaining the sample mean of the Adolescent Fertility Rate in 1975, one way of doing this is as follows:\n",
        "\n",
        "mean(teenager_fr$X1975, na.rm = TRUE)"
      ]
    },
    {
      "cell_type": "code",
      "metadata": {
        "colab": {
          "base_uri": "https://localhost:8080/"
        },
        "id": "Z2c1g2ixGdk9",
        "outputId": "78ecf458-f392-4ec9-b3ba-aab50a02d04d"
      },
      "source": [
        "%%R\n",
        "mean(teenager_fr$X1975, na.rm = TRUE)\n"
      ],
      "execution_count": 13,
      "outputs": [
        {
          "output_type": "stream",
          "name": "stdout",
          "text": [
            "[1] 92.37518\n"
          ]
        }
      ]
    },
    {
      "cell_type": "markdown",
      "metadata": {
        "id": "YTPbvuOXGrp1"
      },
      "source": [
        "Why it is necessary to add the option na.rm = TRUE to the above command? (Select all that apply)\n",
        "\n",
        "![image.png](data:image/png;base64,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)"
      ]
    },
    {
      "cell_type": "code",
      "metadata": {
        "colab": {
          "base_uri": "https://localhost:8080/"
        },
        "id": "R1jPCv8ZHf9N",
        "outputId": "9c926c82-075b-4bda-b87f-5592a633741a"
      },
      "source": [
        "%%R\n",
        "mean(teenager_fr$X1975)"
      ],
      "execution_count": 14,
      "outputs": [
        {
          "output_type": "stream",
          "name": "stdout",
          "text": [
            "[1] NA\n"
          ]
        }
      ]
    },
    {
      "cell_type": "markdown",
      "metadata": {
        "id": "5hw0YXbdHA70"
      },
      "source": [
        "To calculate summary statistics for a group of variables, there are a few different commands. The command mean() is just one example of the different options available. Now, we ask you to go through the R documentation and explore some of the other commands by yourself.\n",
        "\n",
        "\n",
        "\n",
        "If you want to store the output as values in your dataset, or if you want to do something more complicated (ex. Generate these by group, or use one of the dplyr summary functions (ex. n_distinct()), you can use any of the basic summary functions as well as others, in combination with mutate() and summarise() to generate variables in your dataset containing summary values.\n",
        "\n",
        "Now that you’ve learned how to look at and generate summary statistics, answer the following questions."
      ]
    },
    {
      "cell_type": "markdown",
      "metadata": {
        "id": "HvT2GvOZISf4"
      },
      "source": [
        "What is the sample mean and standard deviation of the adolescent fertility rate in 1960?"
      ]
    },
    {
      "cell_type": "code",
      "metadata": {
        "colab": {
          "base_uri": "https://localhost:8080/"
        },
        "id": "-gRKSaX6IR8d",
        "outputId": "da7552a2-f7d1-4a82-f6e6-3bcfd012959d"
      },
      "source": [
        "%%R\n",
        "mean(teenager_fr$X1960, na.rm = TRUE)"
      ],
      "execution_count": 15,
      "outputs": [
        {
          "output_type": "stream",
          "name": "stdout",
          "text": [
            "[1] 101.3325\n"
          ]
        }
      ]
    },
    {
      "cell_type": "code",
      "metadata": {
        "colab": {
          "base_uri": "https://localhost:8080/"
        },
        "id": "3fWo42JIIhXm",
        "outputId": "f7b39f76-58b4-47b3-e677-c9ba795904a1"
      },
      "source": [
        "%%R\n",
        "sd(teenager_fr$X1960, na.rm = TRUE)"
      ],
      "execution_count": 17,
      "outputs": [
        {
          "output_type": "stream",
          "name": "stdout",
          "text": [
            "[1] 54.21493\n"
          ]
        }
      ]
    },
    {
      "cell_type": "markdown",
      "metadata": {
        "id": "PMJKwOOjJGvZ"
      },
      "source": [
        "What is the sample mean and standard deviation of the adolescent fertility rate in 2000?"
      ]
    },
    {
      "cell_type": "code",
      "metadata": {
        "colab": {
          "base_uri": "https://localhost:8080/"
        },
        "id": "Zpuwg_X_JHYi",
        "outputId": "ea1d01db-fbf5-4a6e-e1a2-37ca7afbcdae"
      },
      "source": [
        "%%R\n",
        "mean(teenager_fr$X2000, na.rm = TRUE)"
      ],
      "execution_count": 18,
      "outputs": [
        {
          "output_type": "stream",
          "name": "stdout",
          "text": [
            "[1] 63.15333\n"
          ]
        }
      ]
    },
    {
      "cell_type": "code",
      "metadata": {
        "colab": {
          "base_uri": "https://localhost:8080/"
        },
        "id": "hDIEtzIJJVct",
        "outputId": "88d9f962-df32-44ca-85a0-3cceb66b5d23"
      },
      "source": [
        "%%R\n",
        "sd(teenager_fr$X2000, na.rm = TRUE)"
      ],
      "execution_count": 19,
      "outputs": [
        {
          "output_type": "stream",
          "name": "stdout",
          "text": [
            "[1] 46.92025\n"
          ]
        }
      ]
    },
    {
      "cell_type": "markdown",
      "metadata": {
        "id": "hkvco-OeQAP_"
      },
      "source": [
        "Now, we are interested in plotting the evolution of the Adolescent Fertility Rate from 1960 to 2015. In addition, we are interested in having different information in the same plot. First, we want to plot the sample mean of all the data set, but also we want to add more information such as the rate for low, middle and high income countries (an indicator for country code is stored in the variable \"Country.Code\").\n",
        "\n",
        "Inspect this variable to get a sense of what it contains. Note that it includes indicators for both countries, regions, and income group.  Since we are only interested in the trends by income group, we want to filter the data to contain only the fertility rate for high, middle, and low income countries as well as the world average."
      ]
    },
    {
      "cell_type": "code",
      "metadata": {
        "id": "oH5GfXkuQobd"
      },
      "source": [
        "%%R\n",
        "library(dplyr)"
      ],
      "execution_count": 20,
      "outputs": []
    },
    {
      "cell_type": "code",
      "metadata": {
        "colab": {
          "base_uri": "https://localhost:8080/"
        },
        "id": "E81j8g5GQyam",
        "outputId": "a4b455b7-6265-436e-f75f-311e83948c87"
      },
      "source": [
        "%%R\n",
        "head(teenager_fr$Country.Code)"
      ],
      "execution_count": 22,
      "outputs": [
        {
          "output_type": "stream",
          "name": "stdout",
          "text": [
            "[1] \"ARB\" \"CSS\" \"CEB\" \"EAR\" \"EAS\" \"EAP\"\n"
          ]
        }
      ]
    },
    {
      "cell_type": "markdown",
      "metadata": {
        "id": "3ZX2qRvKRjkA"
      },
      "source": [
        "Use the dplyr filter() command and the logical %in% to keep only the relevant Country.Code observations in teenager_fr. Make sure you name the new dataset “byincomelevel”. Choose the line of code below:\n",
        "\n",
        "![image.png](data:image/png;base64,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)"
      ]
    },
    {
      "cell_type": "code",
      "metadata": {
        "id": "rK5DuCcFSQZg"
      },
      "source": [
        "%%R\n",
        "byincomelevel <- filter(teenager_fr,Country.Code%in%c(\"LIC\",\"MIC\",\"HIC\", \"WLD\"))"
      ],
      "execution_count": 49,
      "outputs": []
    },
    {
      "cell_type": "code",
      "metadata": {
        "colab": {
          "base_uri": "https://localhost:8080/"
        },
        "id": "vbhiJGNqTVqP",
        "outputId": "f04885dc-e0fd-49be-efe9-6e1023add8db"
      },
      "source": [
        "%%R\n",
        "byincomelevel"
      ],
      "execution_count": 50,
      "outputs": [
        {
          "output_type": "stream",
          "name": "stdout",
          "text": [
            "# A tibble: 4 × 64\n",
            "   ...1 Country.Name  Country.Code Indicator.Name     Indicator.Code X1960 X1961\n",
            "  <dbl> <chr>         <chr>        <chr>              <chr>          <dbl> <dbl>\n",
            "1   379 High income   HIC          Adolescent fertil… SP.ADO.TFRT     45.5  45.3\n",
            "2   703 Low income    LIC          Adolescent fertil… SP.ADO.TFRT    137.  137. \n",
            "3   838 Middle income MIC          Adolescent fertil… SP.ADO.TFRT     95.0  95.1\n",
            "4  1216 World         WLD          Adolescent fertil… SP.ADO.TFRT     86.2  86.0\n",
            "# … with 57 more variables: X1962 <dbl>, X1963 <dbl>, X1964 <dbl>, X1965 <dbl>,\n",
            "#   X1966 <dbl>, X1967 <dbl>, X1968 <dbl>, X1969 <dbl>, X1970 <dbl>,\n",
            "#   X1971 <dbl>, X1972 <dbl>, X1973 <dbl>, X1974 <dbl>, X1975 <dbl>,\n",
            "#   X1976 <dbl>, X1977 <dbl>, X1978 <dbl>, X1979 <dbl>, X1980 <dbl>,\n",
            "#   X1981 <dbl>, X1982 <dbl>, X1983 <dbl>, X1984 <dbl>, X1985 <dbl>,\n",
            "#   X1986 <dbl>, X1987 <dbl>, X1988 <dbl>, X1989 <dbl>, X1990 <dbl>,\n",
            "#   X1991 <dbl>, X1992 <dbl>, X1993 <dbl>, X1994 <dbl>, X1995 <dbl>, …\n"
          ]
        }
      ]
    },
    {
      "cell_type": "markdown",
      "metadata": {
        "id": "uzDjmZmDTZk2"
      },
      "source": [
        "Notice, there are still two problems with the resulting data:\n",
        "\n",
        "1.     It contains additional variables that we don’t need or are meaningless at this level of aggregation.\n",
        "\n",
        "\n",
        "\n",
        "2.     It is not organized in a very intuitive way.  A more natural way to organize this data, and prepare it for plotting, is to have each observation represent either a year or a country group-year, and each of the columns represent either the fertility rate for a given group, or if the data is at the country-group year level , then just the fertility rate.\n",
        "\n",
        "Suppose you decide you prefer to have one observation per income group and year. The tidyr command gather() can help you achieve this. Look up the command in the help files. Select the set of arguments that belong in the blanks below."
      ]
    },
    {
      "cell_type": "code",
      "metadata": {
        "id": "k-CKyZHfTu-d"
      },
      "source": [
        "%%R\n",
        "library(tidyr)"
      ],
      "execution_count": 31,
      "outputs": []
    },
    {
      "cell_type": "code",
      "metadata": {
        "colab": {
          "base_uri": "https://localhost:8080/"
        },
        "id": "Mzd8ifQEtZdp",
        "outputId": "89830ba7-34dd-477b-c589-7ba7fc5c89bc"
      },
      "source": [
        "%%R\n",
        "install.packages('ggplot2')"
      ],
      "execution_count": 55,
      "outputs": [
        {
          "output_type": "stream",
          "name": "stderr",
          "text": [
            "R[write to console]: Installing package into ‘/usr/local/lib/R/site-library’\n",
            "(as ‘lib’ is unspecified)\n",
            "\n",
            "R[write to console]: trying URL 'https://cran.rstudio.com/src/contrib/ggplot2_3.3.5.tar.gz'\n",
            "\n",
            "R[write to console]: Content type 'application/x-gzip'\n",
            "R[write to console]:  length 3063309 bytes (2.9 MB)\n",
            "\n",
            "R[write to console]: =\n",
            "R[write to console]: =\n",
            "R[write to console]: =\n",
            "R[write to console]: =\n",
            "R[write to console]: =\n",
            "R[write to console]: =\n",
            "R[write to console]: =\n",
            "R[write to console]: =\n",
            "R[write to console]: =\n",
            "R[write to console]: =\n",
            "R[write to console]: =\n",
            "R[write to console]: =\n",
            "R[write to console]: =\n",
            "R[write to console]: =\n",
            "R[write to console]: =\n",
            "R[write to console]: =\n",
            "R[write to console]: =\n",
            "R[write to console]: =\n",
            "R[write to console]: =\n",
            "R[write to console]: =\n",
            "R[write to console]: =\n",
            "R[write to console]: =\n",
            "R[write to console]: =\n",
            "R[write to console]: =\n",
            "R[write to console]: =\n",
            "R[write to console]: =\n",
            "R[write to console]: =\n",
            "R[write to console]: =\n",
            "R[write to console]: =\n",
            "R[write to console]: =\n",
            "R[write to console]: =\n",
            "R[write to console]: =\n",
            "R[write to console]: =\n",
            "R[write to console]: =\n",
            "R[write to console]: =\n",
            "R[write to console]: =\n",
            "R[write to console]: =\n",
            "R[write to console]: =\n",
            "R[write to console]: =\n",
            "R[write to console]: =\n",
            "R[write to console]: =\n",
            "R[write to console]: =\n",
            "R[write to console]: =\n",
            "R[write to console]: =\n",
            "R[write to console]: =\n",
            "R[write to console]: =\n",
            "R[write to console]: =\n",
            "R[write to console]: =\n",
            "R[write to console]: =\n",
            "R[write to console]: =\n",
            "R[write to console]: \n",
            "\n",
            "R[write to console]: downloaded 2.9 MB\n",
            "\n",
            "\n",
            "R[write to console]: \n",
            "\n",
            "R[write to console]: \n",
            "R[write to console]: The downloaded source packages are in\n",
            "\t‘/tmp/Rtmp6KzOEC/downloaded_packages’\n",
            "R[write to console]: \n",
            "R[write to console]: \n",
            "\n"
          ]
        }
      ]
    },
    {
      "cell_type": "code",
      "metadata": {
        "id": "zp5j7peutoBH"
      },
      "source": [
        "%%R\n",
        "library(ggplot2)"
      ],
      "execution_count": 56,
      "outputs": []
    },
    {
      "cell_type": "code",
      "metadata": {
        "id": "C7C2z0hErcwY"
      },
      "source": [
        "%%R\n",
        "colnames(byincomelevel)[2]<-\"Country.Name\""
      ],
      "execution_count": 51,
      "outputs": []
    },
    {
      "cell_type": "code",
      "metadata": {
        "id": "ruUD3Nd5Yeum"
      },
      "source": [
        "%%R\n",
        "plotdata_bygroupyear <- gather(byincomelevel,\"Year\",\"FertilityRate\",X1960:X2015)%>%\n",
        "select(Year, Country.Name, Country.Code, FertilityRate)"
      ],
      "execution_count": 57,
      "outputs": []
    },
    {
      "cell_type": "markdown",
      "metadata": {
        "id": "o7BccWMacpyY"
      },
      "source": [
        "unsolved issue in course  - for now\n",
        "\n",
        "\n",
        "Suppose you take a look at the data and change your mind. You decided you prefer to look at the data at the year level and have the fertility rates for each income-group as separate variables. The tidyr command spread() can help you achieve this. Look up the command in the help files. Select the set of arguments that belong in the blanks below:"
      ]
    },
    {
      "cell_type": "code",
      "metadata": {
        "id": "-NDU17N9c0pt"
      },
      "source": [
        "%%R\n",
        "plotdata_byyear<-select(plotdata_bygroupyear, Country.Code, Year, FertilityRate) %>%\n",
        "spread(Country.Code, FertilityRate)"
      ],
      "execution_count": 53,
      "outputs": []
    },
    {
      "cell_type": "markdown",
      "metadata": {
        "id": "73QVPIe1f7Vp"
      },
      "source": [
        "Good news. We are finally ready to plot the data! Let’s begin by plotting the fertility rate over time, separately for each income level. To do this, we can use the basic ggplot syntax Prof. Duflo explained in lecture.\n",
        "\n",
        "Let’s start by trying to generate this plot using the plotdata_bygroupyear tibble we generated earlier. Here is the code to generate this plot. Select the set of arguments that belong in the blanks to generate the desired plot."
      ]
    },
    {
      "cell_type": "code",
      "metadata": {
        "colab": {
          "base_uri": "https://localhost:8080/",
          "height": 497
        },
        "id": "NfyfUa6vt6Rf",
        "outputId": "68a296df-31b0-4656-d37f-1551c8754b88"
      },
      "source": [
        "%%R\n",
        "ggplot(plotdata_bygroupyear, aes(x=Year, y=FertilityRate, group=Country.Code)) + geom_line()"
      ],
      "execution_count": 58,
      "outputs": [
        {
          "output_type": "display_data",
          "data": {
            "image/png": "[encoded data removed]"
          },
          "metadata": {}
        }
      ]
    },
    {
      "cell_type": "markdown",
      "metadata": {
        "id": "iX0yKpX2ubfT"
      },
      "source": [
        "It would be nicer if the different plot lines had different colors. You can add the argument color=Country.Code to the code you generated in question 13. Where do you need to specify this argument? Select one of the Roman numeral blanks in the code below, to replace with ,color=Country.Code or color=Country.Code in order for each of the lines to have a different color.\n",
        "\n",
        "Note that the unnumbered blanks are from Question 13."
      ]
    },
    {
      "cell_type": "code",
      "metadata": {
        "colab": {
          "base_uri": "https://localhost:8080/",
          "height": 497
        },
        "id": "K3uzjqELucNP",
        "outputId": "88871417-7654-4a32-e78e-de149488af2e"
      },
      "source": [
        "%%R\n",
        "ggplot(plotdata_bygroupyear, aes(x=Year, y=FertilityRate, group=Country.Code, color=Country.Code)) + geom_line()"
      ],
      "execution_count": 59,
      "outputs": [
        {
          "output_type": "display_data",
          "data": {
            "image/png": "[encoded data removed]"
          },
          "metadata": {}
        }
      ]
    },
    {
      "cell_type": "markdown",
      "metadata": {
        "id": "8FOd3-j6vOpP"
      },
      "source": [
        "It is good practice to include titles in your plot. To do this, look up the ggplot labs() . Select one of the Roman numeral blanks in the code below to replace with (possibly preceded by , or + ) labs(title='Fertility Rate by Country-Income-Level over Time')."
      ]
    },
    {
      "cell_type": "code",
      "metadata": {
        "colab": {
          "base_uri": "https://localhost:8080/",
          "height": 497
        },
        "id": "plTt7AiRvPRj",
        "outputId": "3b066a32-5abc-443e-dd28-13e2a150de57"
      },
      "source": [
        "%%R\n",
        "ggplot(plotdata_bygroupyear, aes(x=Year, y=FertilityRate, group=Country.Code, color=Country.Code)) + geom_line() + labs(title='Fertility Rate by Country-Income-Level over Time')"
      ],
      "execution_count": 60,
      "outputs": [
        {
          "output_type": "display_data",
          "data": {
            "image/png": "[encoded data removed]"
          },
          "metadata": {}
        }
      ]
    },
    {
      "cell_type": "markdown",
      "metadata": {
        "id": "8fZ2FkPWwLbI"
      },
      "source": [
        "One more thing we could improve in this plot is the x-axis labels. First, we can remove the leading “X”. Second, by storing them as numeric, ggplot can use its “optimal” scaling to make a prettier plot instead of having a label for each year. To do this, we can transform the Year variable using dplyr’s mutate function and a combination of the functions as.numeric() and the stringr package. Try to figure out a few ways to do this."
      ]
    },
    {
      "cell_type": "code",
      "metadata": {
        "id": "MCnQJWaYwMIe"
      },
      "source": [
        ""
      ],
      "execution_count": null,
      "outputs": []
    }
  ]
}