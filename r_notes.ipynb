{
  "nbformat": 4,
  "nbformat_minor": 0,
  "metadata": {
    "colab": {
      "name": "r_notes.ipynb",
      "provenance": [],
      "collapsed_sections": [],
      "authorship_tag": "ABX9TyPJTpH9Wj4U75bdWj+HUOfD",
      "include_colab_link": true
    },
    "kernelspec": {
      "name": "python3",
      "display_name": "Python 3"
    },
    "language_info": {
      "name": "python"
    }
  },
  "cells": [
    {
      "cell_type": "markdown",
      "metadata": {
        "id": "view-in-github",
        "colab_type": "text"
      },
      "source": [
        "<a href=\"https://colab.research.google.com/github/dataqueenpend/MIT_DataAnalysisForSocialScientists/blob/main/r_notes.ipynb\" target=\"_parent\"><img src=\"https://colab.research.google.com/assets/colab-badge.svg\" alt=\"Open In Colab\"/></a>"
      ]
    },
    {
      "cell_type": "code",
      "metadata": {
        "id": "4_FjFm8nErmN",
        "colab": {
          "base_uri": "https://localhost:8080/"
        },
        "outputId": "4931c9f6-50af-434b-f2cf-97dbe43773f0"
      },
      "source": [
        "%load_ext rpy2.ipython\n"
      ],
      "execution_count": 13,
      "outputs": [
        {
          "output_type": "stream",
          "name": "stdout",
          "text": [
            "The rpy2.ipython extension is already loaded. To reload it, use:\n",
            "  %reload_ext rpy2.ipython\n"
          ]
        }
      ]
    },
    {
      "cell_type": "code",
      "metadata": {
        "id": "0PI2PNihE9hl"
      },
      "source": [
        "%%R\n",
        "z <- c(pi, 205, 149, -2)\n",
        "y <- c(z, 555, z)\n",
        "y <- 2 * y + 760\n",
        "my_sqrt <- sqrt(y - 1)"
      ],
      "execution_count": 14,
      "outputs": []
    },
    {
      "cell_type": "code",
      "metadata": {
        "colab": {
          "base_uri": "https://localhost:8080/"
        },
        "id": "6z4sjsXFFHK0",
        "outputId": "ef993ea0-2d0b-4c69-e398-fe0a98d07ed8"
      },
      "source": [
        "%%R\n",
        "my_sqrt"
      ],
      "execution_count": 15,
      "outputs": [
        {
          "output_type": "stream",
          "name": "stdout",
          "text": [
            "[1] 27.66375 34.19064 32.51154 27.47726 43.23193 27.66375 34.19064 32.51154\n",
            "[9] 27.47726\n"
          ]
        }
      ]
    },
    {
      "cell_type": "code",
      "metadata": {
        "colab": {
          "base_uri": "https://localhost:8080/"
        },
        "id": "X8Cc8HcoFPaE",
        "outputId": "85e3e4f3-8526-4c7e-d9ff-3bd92c4a8483"
      },
      "source": [
        "%%R\n",
        "NA + 5\n",
        "\n"
      ],
      "execution_count": 16,
      "outputs": [
        {
          "output_type": "stream",
          "name": "stdout",
          "text": [
            "[1] NA\n"
          ]
        }
      ]
    },
    {
      "cell_type": "code",
      "metadata": {
        "colab": {
          "base_uri": "https://localhost:8080/"
        },
        "id": "dZxG4SS-GcGs",
        "outputId": "f55748ea-5379-4827-de73-dfef519a1d18"
      },
      "source": [
        "%%R\n",
        "NA+5\n"
      ],
      "execution_count": 17,
      "outputs": [
        {
          "output_type": "stream",
          "name": "stdout",
          "text": [
            "[1] NA\n"
          ]
        }
      ]
    },
    {
      "cell_type": "code",
      "metadata": {
        "id": "Ndf-d4ViVKH3"
      },
      "source": [
        "%%R\n",
        "age <- c(12, 28, 35, 27, NA, 25, 32, 45, 31, 23, NA, 34)\n"
      ],
      "execution_count": 18,
      "outputs": []
    },
    {
      "cell_type": "code",
      "metadata": {
        "colab": {
          "base_uri": "https://localhost:8080/"
        },
        "id": "F0u9la-YVS_t",
        "outputId": "4032ad6e-cf57-4a80-afd3-3e8f970e3dbe"
      },
      "source": [
        "%%R\n",
        "age[!is.na(age)]"
      ],
      "execution_count": 19,
      "outputs": [
        {
          "output_type": "stream",
          "name": "stdout",
          "text": [
            " [1] 12 28 35 27 25 32 45 31 23 34\n"
          ]
        }
      ]
    },
    {
      "cell_type": "code",
      "metadata": {
        "colab": {
          "base_uri": "https://localhost:8080/"
        },
        "id": "9HbJm01QVYlN",
        "outputId": "5079e8e7-5f26-4a05-bfca-81490d9c937b"
      },
      "source": [
        "%%R\n",
        "age[c(1, 2, 3, 4, 6, 7, 8, 9, 10, 12)]"
      ],
      "execution_count": 20,
      "outputs": [
        {
          "output_type": "stream",
          "name": "stdout",
          "text": [
            " [1] 12 28 35 27 25 32 45 31 23 34\n"
          ]
        }
      ]
    },
    {
      "cell_type": "code",
      "metadata": {
        "colab": {
          "base_uri": "https://localhost:8080/"
        },
        "id": "NQgw1mPQVndt",
        "outputId": "9d870fc3-8425-4769-8ccb-80f40412a23f"
      },
      "source": [
        "%%R\n",
        "age[c(-5, -11)]"
      ],
      "execution_count": 21,
      "outputs": [
        {
          "output_type": "stream",
          "name": "stdout",
          "text": [
            " [1] 12 28 35 27 25 32 45 31 23 34\n"
          ]
        }
      ]
    },
    {
      "cell_type": "code",
      "metadata": {
        "colab": {
          "base_uri": "https://localhost:8080/"
        },
        "id": "xscyBVZRVogV",
        "outputId": "3d722d48-a1b0-4c54-f40f-9a535a41f1ea"
      },
      "source": [
        "%%R\n",
        "age[-c(5, 11)]"
      ],
      "execution_count": 22,
      "outputs": [
        {
          "output_type": "stream",
          "name": "stdout",
          "text": [
            " [1] 12 28 35 27 25 32 45 31 23 34\n"
          ]
        }
      ]
    },
    {
      "cell_type": "code",
      "metadata": {
        "colab": {
          "base_uri": "https://localhost:8080/"
        },
        "id": "_-Jwjz23WIB1",
        "outputId": "67c8f659-3f26-48f3-b4d0-e8af33e81948"
      },
      "source": [
        "%%R\n",
        "library(tidyverse)\n",
        "papers <- as_tibble(read_csv(\"/content/CitesforSara.csv\"))"
      ],
      "execution_count": 23,
      "outputs": [
        {
          "output_type": "stream",
          "name": "stdout",
          "text": [
            "Rows: 4182 Columns: 22\n",
            "── Column specification ────────────────────────────────────────────────────────\n",
            "Delimiter: \",\"\n",
            "chr  (5): journal, title, au1, au2, au3\n",
            "dbl (17): year, cites, female1, female2, female3, page, order, nauthor, past...\n",
            "\n",
            "ℹ Use `spec()` to retrieve the full column specification for this data.\n",
            "ℹ Specify the column types or set `show_col_types = FALSE` to quiet this message.\n"
          ]
        }
      ]
    },
    {
      "cell_type": "code",
      "metadata": {
        "id": "rLHy9yVpjWcY"
      },
      "source": [
        " %%R\n",
        " papers_select <- select(papers, journal, year, cites, title, au1)"
      ],
      "execution_count": 24,
      "outputs": []
    },
    {
      "cell_type": "code",
      "metadata": {
        "colab": {
          "base_uri": "https://localhost:8080/"
        },
        "id": "fJ-MoPT1pSUq",
        "outputId": "933b6b81-871a-44f4-b623-4a9ebc98ce68"
      },
      "source": [
        " %%R\n",
        " head(papers_select)"
      ],
      "execution_count": 25,
      "outputs": [
        {
          "output_type": "stream",
          "name": "stdout",
          "text": [
            "# A tibble: 6 × 5\n",
            "  journal                   year cites title                          au1       \n",
            "  <chr>                    <dbl> <dbl> <chr>                          <chr>     \n",
            "1 American-Economic-Review  1993    31 Jeux Sans Frontieres:  Tax Co… Kanbur,-R…\n",
            "2 American-Economic-Review  1993     4 Changes in Economic Instabili… James,-Jo…\n",
            "3 American-Economic-Review  1993    28 Factor Shares and Savings in … Bertola,-…\n",
            "4 American-Economic-Review  1993    10 Strategic Discipline in Monet… Garfinkel…\n",
            "5 American-Economic-Review  1993     5 Will Affirmative-Action Polic… Coate,-St…\n",
            "6 American-Economic-Review  1993    21 Mergers and Market Power:  Ev… Kim,-E.-H…\n"
          ]
        }
      ]
    },
    {
      "cell_type": "code",
      "metadata": {
        "colab": {
          "base_uri": "https://localhost:8080/"
        },
        "id": "tHIlHarOoCc_",
        "outputId": "5293a81b-6fc2-4b89-93f0-b5c518c6835e"
      },
      "source": [
        " %%R\n",
        "rows100 <- filter(papers_select, cites >= 100)\n",
        "rows100"
      ],
      "execution_count": 26,
      "outputs": [
        {
          "output_type": "stream",
          "name": "stdout",
          "text": [
            "# A tibble: 205 × 5\n",
            "   journal                   year cites title                         au1       \n",
            "   <chr>                    <dbl> <dbl> <chr>                         <chr>     \n",
            " 1 American-Economic-Review  1994   117 Is Inequality Harmful for Gr… Persson,-…\n",
            " 2 Econometrica              1971   149 Further Evidence on the Esti… Nerlove,-…\n",
            " 3 Econometrica              1971   170 The Use of Variance Componen… Maddala,-…\n",
            " 4 Econometrica              1971   155 Investment Under Uncertainty  Lucas,-Ro…\n",
            " 5 Econometrica              1971   139 Some Statistical Models for … Cragg,-Jo…\n",
            " 6 Econometrica              1971   108 Identification in Parametric… Rothenber…\n",
            " 7 Econometrica              1972   164 Methods of Estimation for Ma… Fair,-Ray…\n",
            " 8 Econometrica              1972   150 Existence of Equilibrium of … Radner,-R…\n",
            " 9 Econometrica              1973   361 Manipulation of Voting Schem… Gibbard,-…\n",
            "10 Econometrica              1973   107 On a Class of Equilibrium Co… Kramer,-G…\n",
            "# … with 195 more rows\n"
          ]
        }
      ]
    },
    {
      "cell_type": "code",
      "metadata": {
        "colab": {
          "base_uri": "https://localhost:8080/"
        },
        "id": "McSDJwjPpnE1",
        "outputId": "c9cee04e-e8a0-4de3-9372-f619087b0cf6"
      },
      "source": [
        " %%R\n",
        "group <- group_by(papers_select, journal)\n",
        "group"
      ],
      "execution_count": 27,
      "outputs": [
        {
          "output_type": "stream",
          "name": "stdout",
          "text": [
            "# A tibble: 4,182 × 5\n",
            "# Groups:   journal [7]\n",
            "   journal                   year cites title                         au1       \n",
            "   <chr>                    <dbl> <dbl> <chr>                         <chr>     \n",
            " 1 American-Economic-Review  1993    31 Jeux Sans Frontieres:  Tax C… Kanbur,-R…\n",
            " 2 American-Economic-Review  1993     4 Changes in Economic Instabil… James,-Jo…\n",
            " 3 American-Economic-Review  1993    28 Factor Shares and Savings in… Bertola,-…\n",
            " 4 American-Economic-Review  1993    10 Strategic Discipline in Mone… Garfinkel…\n",
            " 5 American-Economic-Review  1993     5 Will Affirmative-Action Poli… Coate,-St…\n",
            " 6 American-Economic-Review  1993    21 Mergers and Market Power:  E… Kim,-E.-H…\n",
            " 7 American-Economic-Review  1993    45 A Search-Theoretic Approach … Kiyotaki,…\n",
            " 8 American-Economic-Review  1993    13 An Experimental Test of the … Andreoni,…\n",
            " 9 American-Economic-Review  1993     5 A General Experiment on Barg… Kahn,-Law…\n",
            "10 American-Economic-Review  1993     2 Nominal-Contracting Theories… Keane,-Mi…\n",
            "# … with 4,172 more rows\n"
          ]
        }
      ]
    },
    {
      "cell_type": "code",
      "metadata": {
        "id": "M-i9eCgL45Qe"
      },
      "source": [
        "%%R\n",
        "\n",
        "papers_female <- select(papers, contains(\"female\"))"
      ],
      "execution_count": 28,
      "outputs": []
    },
    {
      "cell_type": "code",
      "metadata": {
        "colab": {
          "base_uri": "https://localhost:8080/",
          "height": 204
        },
        "id": "KP7_3gB50R_x",
        "outputId": "a9edcd93-3ade-486d-a9f0-bd1fb821838c"
      },
      "source": [
        "import pandas as pd\n",
        "\n",
        "df=pd.read_csv('/content/CitesforSara.csv')\n",
        "df.head()\n",
        "selected = df[['journal', 'year', 'cites', 'title', 'au1']]\n",
        "selected.head()"
      ],
      "execution_count": 29,
      "outputs": [
        {
          "output_type": "execute_result",
          "data": {
            "text/html": [
              "<div>\n",
              "<style scoped>\n",
              "    .dataframe tbody tr th:only-of-type {\n",
              "        vertical-align: middle;\n",
              "    }\n",
              "\n",
              "    .dataframe tbody tr th {\n",
              "        vertical-align: top;\n",
              "    }\n",
              "\n",
              "    .dataframe thead th {\n",
              "        text-align: right;\n",
              "    }\n",
              "</style>\n",
              "<table border=\"1\" class=\"dataframe\">\n",
              "  <thead>\n",
              "    <tr style=\"text-align: right;\">\n",
              "      <th></th>\n",
              "      <th>journal</th>\n",
              "      <th>year</th>\n",
              "      <th>cites</th>\n",
              "      <th>title</th>\n",
              "      <th>au1</th>\n",
              "    </tr>\n",
              "  </thead>\n",
              "  <tbody>\n",
              "    <tr>\n",
              "      <th>0</th>\n",
              "      <td>American-Economic-Review</td>\n",
              "      <td>1993</td>\n",
              "      <td>31</td>\n",
              "      <td>Jeux Sans Frontieres:  Tax Competition and Tax...</td>\n",
              "      <td>Kanbur,-Ravi</td>\n",
              "    </tr>\n",
              "    <tr>\n",
              "      <th>1</th>\n",
              "      <td>American-Economic-Review</td>\n",
              "      <td>1993</td>\n",
              "      <td>4</td>\n",
              "      <td>Changes in Economic Instability in 19th-Centur...</td>\n",
              "      <td>James,-John-A.</td>\n",
              "    </tr>\n",
              "    <tr>\n",
              "      <th>2</th>\n",
              "      <td>American-Economic-Review</td>\n",
              "      <td>1993</td>\n",
              "      <td>28</td>\n",
              "      <td>Factor Shares and Savings in Endogenous Growth</td>\n",
              "      <td>Bertola,-Giuseppe</td>\n",
              "    </tr>\n",
              "    <tr>\n",
              "      <th>3</th>\n",
              "      <td>American-Economic-Review</td>\n",
              "      <td>1993</td>\n",
              "      <td>10</td>\n",
              "      <td>Strategic Discipline in Monetary Policy with P...</td>\n",
              "      <td>Garfinkel,-Michelle-R.</td>\n",
              "    </tr>\n",
              "    <tr>\n",
              "      <th>4</th>\n",
              "      <td>American-Economic-Review</td>\n",
              "      <td>1993</td>\n",
              "      <td>5</td>\n",
              "      <td>Will Affirmative-Action Policies Eliminate Neg...</td>\n",
              "      <td>Coate,-Stephen</td>\n",
              "    </tr>\n",
              "  </tbody>\n",
              "</table>\n",
              "</div>"
            ],
            "text/plain": [
              "                    journal  ...                     au1\n",
              "0  American-Economic-Review  ...            Kanbur,-Ravi\n",
              "1  American-Economic-Review  ...          James,-John-A.\n",
              "2  American-Economic-Review  ...       Bertola,-Giuseppe\n",
              "3  American-Economic-Review  ...  Garfinkel,-Michelle-R.\n",
              "4  American-Economic-Review  ...          Coate,-Stephen\n",
              "\n",
              "[5 rows x 5 columns]"
            ]
          },
          "metadata": {},
          "execution_count": 29
        }
      ]
    },
    {
      "cell_type": "code",
      "metadata": {
        "colab": {
          "base_uri": "https://localhost:8080/",
          "height": 204
        },
        "id": "3uVl7uwV1UhY",
        "outputId": "336fc137-b367-4500-d3d3-e851ae19d329"
      },
      "source": [
        "sel = selected\n",
        "sel.head()"
      ],
      "execution_count": 30,
      "outputs": [
        {
          "output_type": "execute_result",
          "data": {
            "text/html": [
              "<div>\n",
              "<style scoped>\n",
              "    .dataframe tbody tr th:only-of-type {\n",
              "        vertical-align: middle;\n",
              "    }\n",
              "\n",
              "    .dataframe tbody tr th {\n",
              "        vertical-align: top;\n",
              "    }\n",
              "\n",
              "    .dataframe thead th {\n",
              "        text-align: right;\n",
              "    }\n",
              "</style>\n",
              "<table border=\"1\" class=\"dataframe\">\n",
              "  <thead>\n",
              "    <tr style=\"text-align: right;\">\n",
              "      <th></th>\n",
              "      <th>journal</th>\n",
              "      <th>year</th>\n",
              "      <th>cites</th>\n",
              "      <th>title</th>\n",
              "      <th>au1</th>\n",
              "    </tr>\n",
              "  </thead>\n",
              "  <tbody>\n",
              "    <tr>\n",
              "      <th>0</th>\n",
              "      <td>American-Economic-Review</td>\n",
              "      <td>1993</td>\n",
              "      <td>31</td>\n",
              "      <td>Jeux Sans Frontieres:  Tax Competition and Tax...</td>\n",
              "      <td>Kanbur,-Ravi</td>\n",
              "    </tr>\n",
              "    <tr>\n",
              "      <th>1</th>\n",
              "      <td>American-Economic-Review</td>\n",
              "      <td>1993</td>\n",
              "      <td>4</td>\n",
              "      <td>Changes in Economic Instability in 19th-Centur...</td>\n",
              "      <td>James,-John-A.</td>\n",
              "    </tr>\n",
              "    <tr>\n",
              "      <th>2</th>\n",
              "      <td>American-Economic-Review</td>\n",
              "      <td>1993</td>\n",
              "      <td>28</td>\n",
              "      <td>Factor Shares and Savings in Endogenous Growth</td>\n",
              "      <td>Bertola,-Giuseppe</td>\n",
              "    </tr>\n",
              "    <tr>\n",
              "      <th>3</th>\n",
              "      <td>American-Economic-Review</td>\n",
              "      <td>1993</td>\n",
              "      <td>10</td>\n",
              "      <td>Strategic Discipline in Monetary Policy with P...</td>\n",
              "      <td>Garfinkel,-Michelle-R.</td>\n",
              "    </tr>\n",
              "    <tr>\n",
              "      <th>4</th>\n",
              "      <td>American-Economic-Review</td>\n",
              "      <td>1993</td>\n",
              "      <td>5</td>\n",
              "      <td>Will Affirmative-Action Policies Eliminate Neg...</td>\n",
              "      <td>Coate,-Stephen</td>\n",
              "    </tr>\n",
              "  </tbody>\n",
              "</table>\n",
              "</div>"
            ],
            "text/plain": [
              "                    journal  ...                     au1\n",
              "0  American-Economic-Review  ...            Kanbur,-Ravi\n",
              "1  American-Economic-Review  ...          James,-John-A.\n",
              "2  American-Economic-Review  ...       Bertola,-Giuseppe\n",
              "3  American-Economic-Review  ...  Garfinkel,-Michelle-R.\n",
              "4  American-Economic-Review  ...          Coate,-Stephen\n",
              "\n",
              "[5 rows x 5 columns]"
            ]
          },
          "metadata": {},
          "execution_count": 30
        }
      ]
    },
    {
      "cell_type": "code",
      "metadata": {
        "colab": {
          "base_uri": "https://localhost:8080/",
          "height": 266
        },
        "id": "0N5c7PAF1YKw",
        "outputId": "3b8178ec-f24c-4b1d-8317-5016e37bac35"
      },
      "source": [
        "df.groupby('journal').agg({'cites': 'sum'}) \n"
      ],
      "execution_count": 31,
      "outputs": [
        {
          "output_type": "execute_result",
          "data": {
            "text/html": [
              "<div>\n",
              "<style scoped>\n",
              "    .dataframe tbody tr th:only-of-type {\n",
              "        vertical-align: middle;\n",
              "    }\n",
              "\n",
              "    .dataframe tbody tr th {\n",
              "        vertical-align: top;\n",
              "    }\n",
              "\n",
              "    .dataframe thead th {\n",
              "        text-align: right;\n",
              "    }\n",
              "</style>\n",
              "<table border=\"1\" class=\"dataframe\">\n",
              "  <thead>\n",
              "    <tr style=\"text-align: right;\">\n",
              "      <th></th>\n",
              "      <th>cites</th>\n",
              "    </tr>\n",
              "    <tr>\n",
              "      <th>journal</th>\n",
              "      <th></th>\n",
              "    </tr>\n",
              "  </thead>\n",
              "  <tbody>\n",
              "    <tr>\n",
              "      <th>American-Economic-Review</th>\n",
              "      <td>3738</td>\n",
              "    </tr>\n",
              "    <tr>\n",
              "      <th>Econometrica</th>\n",
              "      <td>75789</td>\n",
              "    </tr>\n",
              "    <tr>\n",
              "      <th>Journal-of-Political-Economy</th>\n",
              "      <td>3398</td>\n",
              "    </tr>\n",
              "    <tr>\n",
              "      <th>Quarterly-Journal-of-Economics</th>\n",
              "      <td>8844</td>\n",
              "    </tr>\n",
              "    <tr>\n",
              "      <th>Review-of-Economic-Studies</th>\n",
              "      <td>21937</td>\n",
              "    </tr>\n",
              "    <tr>\n",
              "      <th>Review-of-Economics-and-Statistics</th>\n",
              "      <td>8473</td>\n",
              "    </tr>\n",
              "  </tbody>\n",
              "</table>\n",
              "</div>"
            ],
            "text/plain": [
              "                                    cites\n",
              "journal                                  \n",
              "American-Economic-Review             3738\n",
              "Econometrica                        75789\n",
              "Journal-of-Political-Economy         3398\n",
              "Quarterly-Journal-of-Economics       8844\n",
              "Review-of-Economic-Studies          21937\n",
              "Review-of-Economics-and-Statistics   8473"
            ]
          },
          "metadata": {},
          "execution_count": 31
        }
      ]
    },
    {
      "cell_type": "code",
      "metadata": {
        "colab": {
          "base_uri": "https://localhost:8080/"
        },
        "id": "o0XCLB6R3mxI",
        "outputId": "c1b8c3c9-07b2-44b3-faae-8e4af7bb9855"
      },
      "source": [
        "sel.info()"
      ],
      "execution_count": 32,
      "outputs": [
        {
          "output_type": "stream",
          "name": "stdout",
          "text": [
            "<class 'pandas.core.frame.DataFrame'>\n",
            "RangeIndex: 4182 entries, 0 to 4181\n",
            "Data columns (total 5 columns):\n",
            " #   Column   Non-Null Count  Dtype \n",
            "---  ------   --------------  ----- \n",
            " 0   journal  4176 non-null   object\n",
            " 1   year     4182 non-null   int64 \n",
            " 2   cites    4182 non-null   int64 \n",
            " 3   title    4181 non-null   object\n",
            " 4   au1      4179 non-null   object\n",
            "dtypes: int64(2), object(3)\n",
            "memory usage: 163.5+ KB\n"
          ]
        }
      ]
    },
    {
      "cell_type": "code",
      "metadata": {
        "colab": {
          "base_uri": "https://localhost:8080/"
        },
        "id": "GLPd84T04DGC",
        "outputId": "349870f9-49f5-4063-b076-28ce5e1dec17"
      },
      "source": [
        "df['au1'].value_counts().sort_index() \n"
      ],
      "execution_count": 33,
      "outputs": [
        {
          "output_type": "execute_result",
          "data": {
            "text/plain": [
              " Williamson,-Stephen-D.            1\n",
              "Aaron,-Henry-J.                    1\n",
              "Abbott,-Michael                    1\n",
              "Abel,-Andrew-B.                    9\n",
              "Abowd,-John-M.                     2\n",
              "                                  ..\n",
              "van-der-Ploeg,-Frederick           1\n",
              "von-Thadden,-Ernst-Ludwig          1\n",
              "von-Ungern-Sternberg,-Thomas       1\n",
              "von-Weizsacker,-C.-Christian       1\n",
              "von-der-Fehr,-Nils-Henrik-Morch    1\n",
              "Name: au1, Length: 2332, dtype: int64"
            ]
          },
          "metadata": {},
          "execution_count": 33
        }
      ]
    },
    {
      "cell_type": "code",
      "metadata": {
        "colab": {
          "base_uri": "https://localhost:8080/"
        },
        "id": "kVfElWx_VrCE",
        "outputId": "c004aec8-df4d-4955-eb1b-3744996cebc8"
      },
      "source": [
        "%%R\n",
        "library(rvest)"
      ],
      "execution_count": 35,
      "outputs": [
        {
          "output_type": "stream",
          "name": "stderr",
          "text": [
            "R[write to console]: \n",
            "Attaching package: ‘rvest’\n",
            "\n",
            "\n",
            "R[write to console]: The following object is masked from ‘package:readr’:\n",
            "\n",
            "    guess_encoding\n",
            "\n",
            "\n"
          ]
        }
      ]
    },
    {
      "cell_type": "code",
      "metadata": {
        "colab": {
          "base_uri": "https://localhost:8080/"
        },
        "id": "rpyiv0xqnZ_S",
        "outputId": "7a30c367-a4f9-4a9e-97b6-e2a3cb3f2402"
      },
      "source": [
        "%load_ext rpy2.ipython"
      ],
      "execution_count": 40,
      "outputs": [
        {
          "output_type": "stream",
          "name": "stdout",
          "text": [
            "The rpy2.ipython extension is already loaded. To reload it, use:\n",
            "  %reload_ext rpy2.ipython\n"
          ]
        }
      ]
    },
    {
      "cell_type": "code",
      "metadata": {
        "colab": {
          "base_uri": "https://localhost:8080/"
        },
        "id": "tCBqKX-WWZaL",
        "outputId": "2090656c-c38a-482d-fb21-a0d9795391c2"
      },
      "source": [
        "\n",
        "%%R\n",
        "edxsubjects <- read_html(\"https://www.edx.org/subjects\") \n",
        "subjectshtml<-html_nodes(edxsubjects, \".align-items-center\")\n",
        "subjecttext<-html_text(subjectshtml)\n",
        "print(subjecttext)"
      ],
      "execution_count": 41,
      "outputs": [
        {
          "output_type": "stream",
          "name": "stdout",
          "text": [
            " [1] \"Toggle mobile menuSign InRegisterCoursesCourses menuCoursesPrograms & DegreesPrograms & Degrees menuProgramsOnline Master's DegreesSchools & PartnersSchools & PartnersedX for BusinessSearch for courses and programs\"\n",
            " [2] \"Search\"                                                                                                                                                                                                                \n",
            " [3] \"\"                                                                                                                                                                                                                      \n",
            " [4] \"\"                                                                                                                                                                                                                      \n",
            " [5] \"SearchedX for Business\"                                                                                                                                                                                                \n",
            " [6] \"\"                                                                                                                                                                                                                      \n",
            " [7] \"\"                                                                                                                                                                                                                      \n",
            " [8] \"Business & Management\"                                                                                                                                                                                                 \n",
            " [9] \"Computer Science\"                                                                                                                                                                                                      \n",
            "[10] \"Data Analysis & Statistics\"                                                                                                                                                                                            \n",
            "[11] \"Humanities\"                                                                                                                                                                                                            \n",
            "[12] \"Language\"                                                                                                                                                                                                              \n",
            "[13] \"Architecture\"                                                                                                                                                                                                          \n",
            "[14] \"Art & Culture\"                                                                                                                                                                                                         \n",
            "[15] \"Biology & Life Sciences\"                                                                                                                                                                                               \n",
            "[16] \"Business & Management\"                                                                                                                                                                                                 \n",
            "[17] \"Chemistry\"                                                                                                                                                                                                             \n",
            "[18] \"Communication\"                                                                                                                                                                                                         \n",
            "[19] \"Computer Science\"                                                                                                                                                                                                      \n",
            "[20] \"Data Analysis & Statistics\"                                                                                                                                                                                            \n",
            "[21] \"Design\"                                                                                                                                                                                                                \n",
            "[22] \"Economics & Finance\"                                                                                                                                                                                                   \n",
            "[23] \"Education & Teacher Training\"                                                                                                                                                                                          \n",
            "[24] \"Electronics\"                                                                                                                                                                                                           \n",
            "[25] \"Energy & Earth Sciences\"                                                                                                                                                                                               \n",
            "[26] \"Engineering\"                                                                                                                                                                                                           \n",
            "[27] \"Environmental Studies\"                                                                                                                                                                                                 \n",
            "[28] \"Ethics\"                                                                                                                                                                                                                \n",
            "[29] \"Food & Nutrition\"                                                                                                                                                                                                      \n",
            "[30] \"Health & Safety\"                                                                                                                                                                                                       \n",
            "[31] \"History\"                                                                                                                                                                                                               \n",
            "[32] \"Humanities\"                                                                                                                                                                                                            \n",
            "[33] \"Language\"                                                                                                                                                                                                              \n",
            "[34] \"Law\"                                                                                                                                                                                                                   \n",
            "[35] \"Literature\"                                                                                                                                                                                                            \n",
            "[36] \"Math\"                                                                                                                                                                                                                  \n",
            "[37] \"Medicine\"                                                                                                                                                                                                              \n",
            "[38] \"Music\"                                                                                                                                                                                                                 \n",
            "[39] \"Philanthropy\"                                                                                                                                                                                                          \n",
            "[40] \"Philosophy & Ethics\"                                                                                                                                                                                                   \n",
            "[41] \"Physics\"                                                                                                                                                                                                               \n",
            "[42] \"Science\"                                                                                                                                                                                                               \n",
            "[43] \"Social Sciences\"                                                                                                                                                                                                       \n",
            "[44] \"Like edX on Facebook\"                                                                                                                                                                                                  \n",
            "[45] \"Follow edX on Twitter\"                                                                                                                                                                                                 \n",
            "[46] \"Follow edX on LinkedIn\"                                                                                                                                                                                                \n",
            "[47] \"Subscribe to the edX subreddit\"                                                                                                                                                                                        \n"
          ]
        }
      ]
    },
    {
      "cell_type": "code",
      "metadata": {
        "colab": {
          "base_uri": "https://localhost:8080/"
        },
        "id": "UeSiuQonnmFC",
        "outputId": "243536e3-408c-4f16-da2e-781f9e48549e"
      },
      "source": [
        "%%R\n",
        "#Selecting subjects in AllSubjects only\n",
        "edxsubjects <- read_html(\"https://www.edx.org/subjects\") \n",
        "subjectshtml<-html_nodes(edxsubjects, \".mb-4+ .mb-4 .align-items-center\")\n",
        "subjecttext<-html_text(subjectshtml)\n",
        "print(subjecttext)\n"
      ],
      "execution_count": 42,
      "outputs": [
        {
          "output_type": "stream",
          "name": "stdout",
          "text": [
            " [1] \"Architecture\"                 \"Art & Culture\"               \n",
            " [3] \"Biology & Life Sciences\"      \"Business & Management\"       \n",
            " [5] \"Chemistry\"                    \"Communication\"               \n",
            " [7] \"Computer Science\"             \"Data Analysis & Statistics\"  \n",
            " [9] \"Design\"                       \"Economics & Finance\"         \n",
            "[11] \"Education & Teacher Training\" \"Electronics\"                 \n",
            "[13] \"Energy & Earth Sciences\"      \"Engineering\"                 \n",
            "[15] \"Environmental Studies\"        \"Ethics\"                      \n",
            "[17] \"Food & Nutrition\"             \"Health & Safety\"             \n",
            "[19] \"History\"                      \"Humanities\"                  \n",
            "[21] \"Language\"                     \"Law\"                         \n",
            "[23] \"Literature\"                   \"Math\"                        \n",
            "[25] \"Medicine\"                     \"Music\"                       \n",
            "[27] \"Philanthropy\"                 \"Philosophy & Ethics\"         \n",
            "[29] \"Physics\"                      \"Science\"                     \n",
            "[31] \"Social Sciences\"             \n"
          ]
        }
      ]
    },
    {
      "cell_type": "code",
      "metadata": {
        "colab": {
          "base_uri": "https://localhost:8080/"
        },
        "id": "_UxOTptJrTXh",
        "outputId": "c507a46f-62ec-40a2-eb13-7663fa819868"
      },
      "source": [
        "%%R\n",
        "install.packages('swirl')"
      ],
      "execution_count": 44,
      "outputs": [
        {
          "output_type": "stream",
          "name": "stderr",
          "text": [
            "R[write to console]: Installing package into ‘/usr/local/lib/R/site-library’\n",
            "(as ‘lib’ is unspecified)\n",
            "\n",
            "R[write to console]: also installing the dependencies ‘bitops’, ‘RCurl’\n",
            "\n",
            "\n",
            "R[write to console]: trying URL 'https://cran.rstudio.com/src/contrib/bitops_1.0-7.tar.gz'\n",
            "\n",
            "R[write to console]: Content type 'application/x-gzip'\n",
            "R[write to console]:  length 10809 bytes (10 KB)\n",
            "\n",
            "R[write to console]: =\n",
            "R[write to console]: =\n",
            "R[write to console]: =\n",
            "R[write to console]: =\n",
            "R[write to console]: =\n",
            "R[write to console]: =\n",
            "R[write to console]: =\n",
            "R[write to console]: =\n",
            "R[write to console]: =\n",
            "R[write to console]: =\n",
            "R[write to console]: =\n",
            "R[write to console]: =\n",
            "R[write to console]: =\n",
            "R[write to console]: =\n",
            "R[write to console]: =\n",
            "R[write to console]: =\n",
            "R[write to console]: =\n",
            "R[write to console]: =\n",
            "R[write to console]: =\n",
            "R[write to console]: =\n",
            "R[write to console]: =\n",
            "R[write to console]: =\n",
            "R[write to console]: =\n",
            "R[write to console]: =\n",
            "R[write to console]: =\n",
            "R[write to console]: =\n",
            "R[write to console]: =\n",
            "R[write to console]: =\n",
            "R[write to console]: =\n",
            "R[write to console]: =\n",
            "R[write to console]: =\n",
            "R[write to console]: =\n",
            "R[write to console]: =\n",
            "R[write to console]: =\n",
            "R[write to console]: =\n",
            "R[write to console]: =\n",
            "R[write to console]: =\n",
            "R[write to console]: =\n",
            "R[write to console]: =\n",
            "R[write to console]: =\n",
            "R[write to console]: =\n",
            "R[write to console]: =\n",
            "R[write to console]: =\n",
            "R[write to console]: =\n",
            "R[write to console]: =\n",
            "R[write to console]: =\n",
            "R[write to console]: =\n",
            "R[write to console]: =\n",
            "R[write to console]: =\n",
            "R[write to console]: =\n",
            "R[write to console]: \n",
            "\n",
            "R[write to console]: downloaded 10 KB\n",
            "\n",
            "\n",
            "R[write to console]: trying URL 'https://cran.rstudio.com/src/contrib/RCurl_1.98-1.5.tar.gz'\n",
            "\n",
            "R[write to console]: Content type 'application/x-gzip'\n",
            "R[write to console]:  length 731359 bytes (714 KB)\n",
            "\n",
            "R[write to console]: =\n",
            "R[write to console]: =\n",
            "R[write to console]: =\n",
            "R[write to console]: =\n",
            "R[write to console]: =\n",
            "R[write to console]: =\n",
            "R[write to console]: =\n",
            "R[write to console]: =\n",
            "R[write to console]: =\n",
            "R[write to console]: =\n",
            "R[write to console]: =\n",
            "R[write to console]: =\n",
            "R[write to console]: =\n",
            "R[write to console]: =\n",
            "R[write to console]: =\n",
            "R[write to console]: =\n",
            "R[write to console]: =\n",
            "R[write to console]: =\n",
            "R[write to console]: =\n",
            "R[write to console]: =\n",
            "R[write to console]: =\n",
            "R[write to console]: =\n",
            "R[write to console]: =\n",
            "R[write to console]: =\n",
            "R[write to console]: =\n",
            "R[write to console]: =\n",
            "R[write to console]: =\n",
            "R[write to console]: =\n",
            "R[write to console]: =\n",
            "R[write to console]: =\n",
            "R[write to console]: =\n",
            "R[write to console]: =\n",
            "R[write to console]: =\n",
            "R[write to console]: =\n",
            "R[write to console]: =\n",
            "R[write to console]: =\n",
            "R[write to console]: =\n",
            "R[write to console]: =\n",
            "R[write to console]: =\n",
            "R[write to console]: =\n",
            "R[write to console]: =\n",
            "R[write to console]: =\n",
            "R[write to console]: =\n",
            "R[write to console]: =\n",
            "R[write to console]: =\n",
            "R[write to console]: =\n",
            "R[write to console]: =\n",
            "R[write to console]: =\n",
            "R[write to console]: =\n",
            "R[write to console]: =\n",
            "R[write to console]: \n",
            "\n",
            "R[write to console]: downloaded 714 KB\n",
            "\n",
            "\n",
            "R[write to console]: trying URL 'https://cran.rstudio.com/src/contrib/swirl_2.4.5.tar.gz'\n",
            "\n",
            "R[write to console]: Content type 'application/x-gzip'\n",
            "R[write to console]:  length 108847 bytes (106 KB)\n",
            "\n",
            "R[write to console]: =\n",
            "R[write to console]: =\n",
            "R[write to console]: =\n",
            "R[write to console]: =\n",
            "R[write to console]: =\n",
            "R[write to console]: =\n",
            "R[write to console]: =\n",
            "R[write to console]: =\n",
            "R[write to console]: =\n",
            "R[write to console]: =\n",
            "R[write to console]: =\n",
            "R[write to console]: =\n",
            "R[write to console]: =\n",
            "R[write to console]: =\n",
            "R[write to console]: =\n",
            "R[write to console]: =\n",
            "R[write to console]: =\n",
            "R[write to console]: =\n",
            "R[write to console]: =\n",
            "R[write to console]: =\n",
            "R[write to console]: =\n",
            "R[write to console]: =\n",
            "R[write to console]: =\n",
            "R[write to console]: =\n",
            "R[write to console]: =\n",
            "R[write to console]: =\n",
            "R[write to console]: =\n",
            "R[write to console]: =\n",
            "R[write to console]: =\n",
            "R[write to console]: =\n",
            "R[write to console]: =\n",
            "R[write to console]: =\n",
            "R[write to console]: =\n",
            "R[write to console]: =\n",
            "R[write to console]: =\n",
            "R[write to console]: =\n",
            "R[write to console]: =\n",
            "R[write to console]: =\n",
            "R[write to console]: =\n",
            "R[write to console]: =\n",
            "R[write to console]: =\n",
            "R[write to console]: =\n",
            "R[write to console]: =\n",
            "R[write to console]: =\n",
            "R[write to console]: =\n",
            "R[write to console]: =\n",
            "R[write to console]: =\n",
            "R[write to console]: =\n",
            "R[write to console]: =\n",
            "R[write to console]: =\n",
            "R[write to console]: \n",
            "\n",
            "R[write to console]: downloaded 106 KB\n",
            "\n",
            "\n",
            "R[write to console]: \n",
            "\n",
            "R[write to console]: \n",
            "R[write to console]: The downloaded source packages are in\n",
            "\t‘/tmp/Rtmp9HKkdy/downloaded_packages’\n",
            "R[write to console]: \n",
            "R[write to console]: \n",
            "\n"
          ]
        }
      ]
    },
    {
      "cell_type": "code",
      "metadata": {
        "colab": {
          "base_uri": "https://localhost:8080/"
        },
        "id": "E_YDx_FCrzBT",
        "outputId": "206a75b4-4d2e-4422-a50f-02ebe714fe2f"
      },
      "source": [
        "%%R\n",
        "library('swirl')"
      ],
      "execution_count": 45,
      "outputs": [
        {
          "output_type": "stream",
          "name": "stderr",
          "text": [
            "R[write to console]: \n",
            "| Hi! I see that you have some variables saved in your workspace. To keep\n",
            "| things running smoothly, I recommend you clean up before starting swirl.\n",
            "\n",
            "| Type ls() to see a list of the variables in your workspace. Then, type\n",
            "| rm(list=ls()) to clear your workspace.\n",
            "\n",
            "| Type swirl() when you are ready to begin.\n",
            "\n",
            "\n"
          ]
        }
      ]
    },
    {
      "cell_type": "code",
      "metadata": {
        "id": "z6p06qh0r613"
      },
      "source": [
        "%%R\n",
        "install_course_zip('/content/14_310x_Advanced_R.zip',multi=FALSE)"
      ],
      "execution_count": 47,
      "outputs": []
    },
    {
      "cell_type": "code",
      "metadata": {
        "id": "uAou1zsMtC6x"
      },
      "source": [
        "%%R\n",
        "swirl()"
      ],
      "execution_count": 48,
      "outputs": []
    }
  ]
}